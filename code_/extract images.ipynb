{
 "cells": [
  {
   "cell_type": "markdown",
   "metadata": {},
   "source": [
    "# Extracting IMERG images"
   ]
  },
  {
   "cell_type": "code",
   "execution_count": 2,
   "metadata": {},
   "outputs": [],
   "source": [
    "\n",
    "import h5py \n",
    "import tifffile as tff \n",
    "import numpy as np\n",
    "import netCDF4 \n",
    "# import imageio \n"
   ]
  },
  {
   "cell_type": "code",
   "execution_count": 3,
   "metadata": {},
   "outputs": [],
   "source": [
    "date = 20210324\n",
    "fp = r'd:\\DatasetAUS\\IMERG-LD6\\3B-DAY-L.MS.MRG.3IMERG.'+str(date)+'-S000000-E235959.V06.nc4.nc4'\n",
    "nc = netCDF4.Dataset(fp)\n",
    "image = np.array(nc['precipitationCal'])[0]\n",
    "image = np.rot90(image)\n",
    "outfolder = r'D:\\Projects\\precipitation_AUS\\IMAGES\\IMERG/'\n",
    "\n",
    "tff.imwrite( outfolder + str(date) + '.tif'  , image)"
   ]
  },
  {
   "cell_type": "code",
   "execution_count": 36,
   "metadata": {},
   "outputs": [
    {
     "data": {
      "text/plain": [
       "(3, 371, 500)"
      ]
     },
     "execution_count": 36,
     "metadata": {},
     "output_type": "execute_result"
    }
   ],
   "source": [
    "np.array([image, image ,image ]).shape"
   ]
  },
  {
   "cell_type": "code",
   "execution_count": 8,
   "metadata": {},
   "outputs": [
    {
     "data": {
      "text/plain": [
       "dict_keys(['precipitationCal', 'HQprecipitation', 'lat', 'lon', 'time'])"
      ]
     },
     "execution_count": 8,
     "metadata": {},
     "output_type": "execute_result"
    }
   ],
   "source": [
    "nc.variables.keys()"
   ]
  },
  {
   "cell_type": "code",
   "execution_count": 14,
   "metadata": {},
   "outputs": [
    {
     "data": {
      "text/plain": [
       "(-8.049998, -45.05)"
      ]
     },
     "execution_count": 14,
     "metadata": {},
     "output_type": "execute_result"
    }
   ],
   "source": [
    "np.max(nc['lat'] ) , np.min( nc['lat'])\n"
   ]
  },
  {
   "cell_type": "code",
   "execution_count": 15,
   "metadata": {},
   "outputs": [
    {
     "data": {
      "text/plain": [
       "(159.95, 110.05)"
      ]
     },
     "execution_count": 15,
     "metadata": {},
     "output_type": "execute_result"
    }
   ],
   "source": [
    "np.max(nc['lon'] ) , np.min( nc['lon']) \n"
   ]
  },
  {
   "cell_type": "code",
   "execution_count": null,
   "metadata": {},
   "outputs": [],
   "source": []
  },
  {
   "cell_type": "markdown",
   "metadata": {},
   "source": [
    "# ERA5"
   ]
  },
  {
   "cell_type": "code",
   "execution_count": 30,
   "metadata": {},
   "outputs": [],
   "source": [
    "\n",
    "date = '2021-03-18'\n",
    "fp = r'd:\\DatasetAUS\\ERA5\\cape\\2021-01-01-2021-12-31-cape.hdf5'\n",
    "hdf = h5py.File(fp)\n",
    "image = np.array(hdf[date])\n",
    "outfolder = r'D:\\Projects\\precipitation_AUS\\IMAGES/ERA5_tp/ERA_cape_' \n",
    "\n",
    "tff.imwrite( outfolder + str(date) + '.tif'  , image)\n"
   ]
  },
  {
   "cell_type": "code",
   "execution_count": 19,
   "metadata": {},
   "outputs": [
    {
     "data": {
      "text/plain": [
       "(169, 281)"
      ]
     },
     "execution_count": 19,
     "metadata": {},
     "output_type": "execute_result"
    }
   ],
   "source": [
    "image.shape"
   ]
  },
  {
   "cell_type": "code",
   "execution_count": 10,
   "metadata": {},
   "outputs": [
    {
     "data": {
      "text/plain": [
       "(-8.0, -50.0)"
      ]
     },
     "execution_count": 10,
     "metadata": {},
     "output_type": "execute_result"
    }
   ],
   "source": [
    "np.max(hdf['lat'] ) , np.min( hdf['lat'])\n"
   ]
  },
  {
   "cell_type": "code",
   "execution_count": 11,
   "metadata": {},
   "outputs": [
    {
     "data": {
      "text/plain": [
       "(170.0, 100.0)"
      ]
     },
     "execution_count": 11,
     "metadata": {},
     "output_type": "execute_result"
    }
   ],
   "source": [
    "np.max(hdf['lon'] ) , np.min( hdf['lon']) "
   ]
  },
  {
   "cell_type": "markdown",
   "metadata": {},
   "source": [
    "# PDIR to datframe"
   ]
  },
  {
   "cell_type": "code",
   "execution_count": 2,
   "metadata": {},
   "outputs": [],
   "source": [
    "from osgeo import gdal\n",
    "import pandas as pd\n",
    "\n",
    "def pixel( file,x,y):\n",
    "    number_of_col = file.RasterXSize \n",
    "    number_of_rows= file.RasterYSize\n",
    "    left = file.GetGeoTransform()[0]\n",
    "\n",
    "    top = file.GetGeoTransform()[3]\n",
    "    res_x = file.GetGeoTransform()[1]\n",
    "    res_y = file.GetGeoTransform()[5]\n",
    "    J = int((x-left)/res_x)\n",
    "    I = int((y-top)/res_y)\n",
    "    if I>number_of_rows or J>number_of_col or I<0 or J<0 :\n",
    "        print( \"(\",I,J ,\")\" ,\"  is out of raster bands\" )\n",
    "    else:\n",
    "        return I,J\n",
    "    \n",
    "\n",
    "\n",
    "def Dict_to_hdf(Dict , of ):\n",
    "    HDF = h5py.File(of, 'w')\n",
    "    for k in Dict :    \n",
    "        test = HDF.create_dataset( k , data = Dict[k] )\n",
    "    HDF.close()   "
   ]
  },
  {
   "cell_type": "code",
   "execution_count": 6,
   "metadata": {},
   "outputs": [
    {
     "name": "stderr",
     "output_type": "stream",
     "text": [
      "c:\\Users\\S4055367\\AppData\\Local\\anaconda3\\envs\\Reza2\\Lib\\site-packages\\h5py\\__init__.py:36: UserWarning: h5py is running against HDF5 1.14.3 when it was built against 1.14.2, this may cause problems\n",
      "  _warn((\"h5py is running against HDF5 {0} when it was built against {1}, \"\n"
     ]
    }
   ],
   "source": [
    "import tifffile as tff\n",
    "import numpy as np\n",
    "import h5py \n",
    "\n",
    "fp = r\"D:\\DatasetAUS\\PDIR 2013-2024\\PDIR_1d20220223.tif\"\n",
    "PDIR_image = gdal.Open(fp)\n",
    "top = PDIR_image.GetGeoTransform()[3]\n",
    "res_x = PDIR_image.GetGeoTransform()[1]\n",
    "res_y = PDIR_image.GetGeoTransform()[5]\n",
    "left = PDIR_image.GetGeoTransform()[0]\n",
    "arr  = PDIR_image.ReadAsArray(0,0,PDIR_image.RasterXSize, PDIR_image.RasterYSize)\n",
    "\n",
    "point_1 = ( 147.56  , -24.81 )\n",
    "point_2 = ( 156  , -37.33 )\n",
    "\n",
    "cell_1 = pixel( file= PDIR_image,x =point_1[0] ,y= point_1[1])\n",
    "cell_2 = pixel( file= PDIR_image,x =point_2[0] ,y= point_2[1])\n",
    "image = arr[  cell_1[0] : cell_2[0]   ,  cell_1[1] : cell_2[1] ]\n",
    "\n",
    "tff.imwrite( r\"D:\\Projects\\precipitation_AUS\\IMAGES\\pdir\\PDIR_23-feb-2022-crop.tif\" , image)\n",
    "\n",
    "lon =  np.arange( point_1[0] ,   point_2[0]  ,  res_x ) \n",
    "lat =  np.arange( point_1[1] ,   point_2[1]   ,  res_y) \n",
    "lat_image = np.array( [lat for i in range(image.shape[1])]).T\n",
    "lon_image = np.array( [lon for i in range(image.shape[0])])\n",
    "\n",
    "df = {}\n",
    "# df['PDIR'] = np.reshape( image ,   image.shape[0]  * image.shape[1])\n",
    "df['LATITUDE'] = np.reshape( lat_image ,   image.shape[0]  * image.shape[1])\n",
    "df['LONGITUDE'] = np.reshape( lon_image ,   image.shape[0]  * image.shape[1])\n",
    "df['YEAR']   =  np.zeros( image.shape[0]  * image.shape[1] ) +  2022  \n",
    "df['MONTH']   =  np.zeros( image.shape[0]  * image.shape[1] ) +  2  \n",
    "df['DAY']   =  np.zeros( image.shape[0]  * image.shape[1] ) +  23  \n",
    "Dict_to_hdf(df , r'D:\\Projects\\precipitation_AUS\\dataset\\23feb2022/data_23_feb_2022.hdf5' )\n"
   ]
  },
  {
   "cell_type": "code",
   "execution_count": 65,
   "metadata": {},
   "outputs": [],
   "source": []
  },
  {
   "cell_type": "code",
   "execution_count": 66,
   "metadata": {},
   "outputs": [
    {
     "data": {
      "text/plain": [
       "((439, 1000), (752, 1211))"
      ]
     },
     "execution_count": 66,
     "metadata": {},
     "output_type": "execute_result"
    }
   ],
   "source": [
    "cell_1 , cell_2"
   ]
  },
  {
   "cell_type": "code",
   "execution_count": 67,
   "metadata": {},
   "outputs": [],
   "source": []
  },
  {
   "cell_type": "code",
   "execution_count": 68,
   "metadata": {},
   "outputs": [],
   "source": []
  },
  {
   "cell_type": "code",
   "execution_count": 69,
   "metadata": {},
   "outputs": [
    {
     "data": {
      "text/plain": [
       "array([2, 2, 2, ..., 0, 0, 0], dtype=int16)"
      ]
     },
     "execution_count": 69,
     "metadata": {},
     "output_type": "execute_result"
    }
   ],
   "source": []
  },
  {
   "cell_type": "code",
   "execution_count": 70,
   "metadata": {},
   "outputs": [
    {
     "data": {
      "text/plain": [
       "(313, 211)"
      ]
     },
     "execution_count": 70,
     "metadata": {},
     "output_type": "execute_result"
    }
   ],
   "source": [
    "image.shape"
   ]
  },
  {
   "cell_type": "code",
   "execution_count": 45,
   "metadata": {},
   "outputs": [],
   "source": [
    "# import packages\n",
    "import netCDF4\n",
    "import pandas as pd\n",
    "import numpy as np\n",
    "import os \n",
    "import h5py\n",
    "from datetime import datetime as Time\n",
    "from datetime import timedelta as Delta\n",
    "\n",
    "\n",
    "\n",
    "def Dict_to_hdf(Dict , of ):\n",
    "    HDF = h5py.File(of, 'w')\n",
    "    for k in Dict :    \n",
    "        test = HDF.create_dataset( k , data = Dict[k] )\n",
    "    HDF.close()   "
   ]
  },
  {
   "cell_type": "code",
   "execution_count": 43,
   "metadata": {},
   "outputs": [],
   "source": [
    "# input folder and output hdf files\n",
    "folder = r\"D:\\Projects\\Morteza\\New folder/\"\n",
    "output_file = r\"D:/Projects/Morteza/grace.hdf5\"\n"
   ]
  },
  {
   "cell_type": "code",
   "execution_count": 46,
   "metadata": {},
   "outputs": [],
   "source": [
    "files = os.listdir(folder)\n",
    "out_dict = {}\n",
    "for i in range( len(files)):\n",
    "    fp = folder + files[i]\n",
    "    nc = netCDF4.Dataset(fp)\n",
    "    if i == 0 :\n",
    "        Shape = np.array(nc['gws_inst'])[0].shape \n",
    "    arr = np.reshape( np.array(nc['gws_inst'])[0] , Shape[0]  * Shape[1] )\n",
    "\n",
    "    T0 = Time( year= 2003 , month= 2 , day = 2 )\n",
    "    dt = Delta(days= np.array(nc['time'])[0])\n",
    "    time = T0 + dt \n",
    "    out_dict[str(time) ] = arr\n",
    "\n",
    "\n",
    "\n",
    "\n",
    "out_dict['shape'] = Shape\n",
    "\n",
    "lat  = np.array(nc['lat'])\n",
    "lon  = np.array(nc['lon'])\n",
    "\n",
    "lat_image = np.array( [lat  ]* Shape[1] ).T\n",
    "lon_image = np.array( [lon  ]* Shape[0] )\n",
    "\n",
    "out_dict['lat'] =  np.reshape( lat_image, Shape[0]  * Shape[1] )\n",
    "out_dict['lon'] =  np.reshape(lon_image , Shape[0]  * Shape[1] )\n",
    "\n",
    "\n",
    "Dict_to_hdf(out_dict , output_file)"
   ]
  },
  {
   "cell_type": "code",
   "execution_count": 17,
   "metadata": {},
   "outputs": [
    {
     "data": {
      "text/plain": [
       "(227, 137)"
      ]
     },
     "execution_count": 17,
     "metadata": {},
     "output_type": "execute_result"
    }
   ],
   "source": [
    "np.array( [np.array(nc['lat']).T  ]* Shape[1] ).shape"
   ]
  },
  {
   "cell_type": "code",
   "execution_count": 39,
   "metadata": {},
   "outputs": [],
   "source": [
    "\n"
   ]
  },
  {
   "cell_type": "code",
   "execution_count": 33,
   "metadata": {},
   "outputs": [],
   "source": [
    "lat_image.shape  ="
   ]
  },
  {
   "cell_type": "code",
   "execution_count": 41,
   "metadata": {},
   "outputs": [
    {
     "data": {
      "text/plain": [
       "(137, 227)"
      ]
     },
     "execution_count": 41,
     "metadata": {},
     "output_type": "execute_result"
    }
   ],
   "source": [
    "lon_image.shape"
   ]
  },
  {
   "cell_type": "code",
   "execution_count": 42,
   "metadata": {},
   "outputs": [
    {
     "data": {
      "text/plain": [
       "(137, 227)"
      ]
     },
     "execution_count": 42,
     "metadata": {},
     "output_type": "execute_result"
    }
   ],
   "source": [
    "Shape"
   ]
  },
  {
   "cell_type": "code",
   "execution_count": 36,
   "metadata": {},
   "outputs": [
    {
     "data": {
      "text/plain": [
       "array([[23.375, 23.625, 23.875, ..., 79.375, 79.625, 79.875],\n",
       "       [23.375, 23.625, 23.875, ..., 79.375, 79.625, 79.875],\n",
       "       [23.375, 23.625, 23.875, ..., 79.375, 79.625, 79.875],\n",
       "       ...,\n",
       "       [23.375, 23.625, 23.875, ..., 79.375, 79.625, 79.875],\n",
       "       [23.375, 23.625, 23.875, ..., 79.375, 79.625, 79.875],\n",
       "       [23.375, 23.625, 23.875, ..., 79.375, 79.625, 79.875]],\n",
       "      dtype=float32)"
      ]
     },
     "execution_count": 36,
     "metadata": {},
     "output_type": "execute_result"
    }
   ],
   "source": [
    "lon_image "
   ]
  },
  {
   "cell_type": "code",
   "execution_count": 37,
   "metadata": {},
   "outputs": [
    {
     "data": {
      "text/plain": [
       "(137, 227)"
      ]
     },
     "execution_count": 37,
     "metadata": {},
     "output_type": "execute_result"
    }
   ],
   "source": [
    "lon_image.shape"
   ]
  },
  {
   "cell_type": "code",
   "execution_count": 9,
   "metadata": {},
   "outputs": [
    {
     "data": {
      "text/plain": [
       "array([[ 4.6153846,  4.6153846,  4.6153846, ...,  2.9861948,  1.2035277,\n",
       "         1.5384616],\n",
       "       [ 4.6153846,  4.6153846,  3.2258286, ...,  1.5384616,  1.3972311,\n",
       "         1.0989012],\n",
       "       [ 5.7242165,  7.9371967,  6.1934752, ...,  1.5384616,  1.5384616,\n",
       "         1.0989012],\n",
       "       ...,\n",
       "       [ 1.5384616, 64.492226 , 58.46154  , ..., 53.214222 , 48.79121  ,\n",
       "        72.4178   ],\n",
       "       [64.25436  , 67.14332  , 54.829872 , ..., 86.93628  , 83.39985  ,\n",
       "        79.10579  ],\n",
       "       [81.870316 , 70.27741  , 51.997116 , ..., 79.56037  , 71.40202  ,\n",
       "        61.487053 ]], dtype=float32)"
      ]
     },
     "execution_count": 9,
     "metadata": {},
     "output_type": "execute_result"
    }
   ],
   "source": [
    "np.array(nc['gws_inst'])[0] "
   ]
  },
  {
   "cell_type": "code",
   "execution_count": 11,
   "metadata": {},
   "outputs": [
    {
     "data": {
      "text/plain": [
       "(137, 227)"
      ]
     },
     "execution_count": 11,
     "metadata": {},
     "output_type": "execute_result"
    }
   ],
   "source": [
    "out_dict['lat'] = np.array(nc['lat']) \n"
   ]
  },
  {
   "cell_type": "code",
   "execution_count": 12,
   "metadata": {},
   "outputs": [
    {
     "data": {
      "text/plain": [
       "(137,)"
      ]
     },
     "execution_count": 12,
     "metadata": {},
     "output_type": "execute_result"
    }
   ],
   "source": [
    "np.array(nc['lat']).shape"
   ]
  },
  {
   "cell_type": "code",
   "execution_count": 8,
   "metadata": {},
   "outputs": [
    {
     "data": {
      "text/plain": [
       "(227,)"
      ]
     },
     "execution_count": 8,
     "metadata": {},
     "output_type": "execute_result"
    }
   ],
   "source": [
    "Folder  = '\"er5 resample.ipynb\"'\n",
    "\n"
   ]
  },
  {
   "cell_type": "code",
   "execution_count": 12,
   "metadata": {},
   "outputs": [],
   "source": []
  },
  {
   "cell_type": "code",
   "execution_count": 13,
   "metadata": {},
   "outputs": [],
   "source": []
  },
  {
   "cell_type": "code",
   "execution_count": 14,
   "metadata": {},
   "outputs": [
    {
     "data": {
      "text/plain": [
       "array([[ 4.6153846,  4.6153846,  4.6153846, ...,  2.9861948,  1.2035277,\n",
       "         1.5384616],\n",
       "       [ 4.6153846,  4.6153846,  3.2258286, ...,  1.5384616,  1.3972311,\n",
       "         1.0989012],\n",
       "       [ 5.7242165,  7.9371967,  6.1934752, ...,  1.5384616,  1.5384616,\n",
       "         1.0989012],\n",
       "       ...,\n",
       "       [ 1.5384616, 64.492226 , 58.46154  , ..., 53.214222 , 48.79121  ,\n",
       "        72.4178   ],\n",
       "       [64.25436  , 67.14332  , 54.829872 , ..., 86.93628  , 83.39985  ,\n",
       "        79.10579  ],\n",
       "       [81.870316 , 70.27741  , 51.997116 , ..., 79.56037  , 71.40202  ,\n",
       "        61.487053 ]], dtype=float32)"
      ]
     },
     "execution_count": 14,
     "metadata": {},
     "output_type": "execute_result"
    }
   ],
   "source": [
    "arr"
   ]
  },
  {
   "cell_type": "code",
   "execution_count": 99,
   "metadata": {},
   "outputs": [
    {
     "data": {
      "text/html": [
       "<div>\n",
       "<style scoped>\n",
       "    .dataframe tbody tr th:only-of-type {\n",
       "        vertical-align: middle;\n",
       "    }\n",
       "\n",
       "    .dataframe tbody tr th {\n",
       "        vertical-align: top;\n",
       "    }\n",
       "\n",
       "    .dataframe thead th {\n",
       "        text-align: right;\n",
       "    }\n",
       "</style>\n",
       "<table border=\"1\" class=\"dataframe\">\n",
       "  <thead>\n",
       "    <tr style=\"text-align: right;\">\n",
       "      <th></th>\n",
       "      <th>PDIR</th>\n",
       "      <th>LATITUDE</th>\n",
       "      <th>LONGITUDE</th>\n",
       "    </tr>\n",
       "  </thead>\n",
       "  <tbody>\n",
       "    <tr>\n",
       "      <th>0</th>\n",
       "      <td>2</td>\n",
       "      <td>-24.81</td>\n",
       "      <td>147.56</td>\n",
       "    </tr>\n",
       "    <tr>\n",
       "      <th>1</th>\n",
       "      <td>2</td>\n",
       "      <td>-24.81</td>\n",
       "      <td>147.60</td>\n",
       "    </tr>\n",
       "    <tr>\n",
       "      <th>2</th>\n",
       "      <td>2</td>\n",
       "      <td>-24.81</td>\n",
       "      <td>147.64</td>\n",
       "    </tr>\n",
       "    <tr>\n",
       "      <th>3</th>\n",
       "      <td>2</td>\n",
       "      <td>-24.81</td>\n",
       "      <td>147.68</td>\n",
       "    </tr>\n",
       "    <tr>\n",
       "      <th>4</th>\n",
       "      <td>1</td>\n",
       "      <td>-24.81</td>\n",
       "      <td>147.72</td>\n",
       "    </tr>\n",
       "    <tr>\n",
       "      <th>...</th>\n",
       "      <td>...</td>\n",
       "      <td>...</td>\n",
       "      <td>...</td>\n",
       "    </tr>\n",
       "    <tr>\n",
       "      <th>66038</th>\n",
       "      <td>0</td>\n",
       "      <td>-37.29</td>\n",
       "      <td>155.80</td>\n",
       "    </tr>\n",
       "    <tr>\n",
       "      <th>66039</th>\n",
       "      <td>0</td>\n",
       "      <td>-37.29</td>\n",
       "      <td>155.84</td>\n",
       "    </tr>\n",
       "    <tr>\n",
       "      <th>66040</th>\n",
       "      <td>0</td>\n",
       "      <td>-37.29</td>\n",
       "      <td>155.88</td>\n",
       "    </tr>\n",
       "    <tr>\n",
       "      <th>66041</th>\n",
       "      <td>0</td>\n",
       "      <td>-37.29</td>\n",
       "      <td>155.92</td>\n",
       "    </tr>\n",
       "    <tr>\n",
       "      <th>66042</th>\n",
       "      <td>0</td>\n",
       "      <td>-37.29</td>\n",
       "      <td>155.96</td>\n",
       "    </tr>\n",
       "  </tbody>\n",
       "</table>\n",
       "<p>66043 rows × 3 columns</p>\n",
       "</div>"
      ],
      "text/plain": [
       "       PDIR  LATITUDE  LONGITUDE\n",
       "0         2    -24.81     147.56\n",
       "1         2    -24.81     147.60\n",
       "2         2    -24.81     147.64\n",
       "3         2    -24.81     147.68\n",
       "4         1    -24.81     147.72\n",
       "...     ...       ...        ...\n",
       "66038     0    -37.29     155.80\n",
       "66039     0    -37.29     155.84\n",
       "66040     0    -37.29     155.88\n",
       "66041     0    -37.29     155.92\n",
       "66042     0    -37.29     155.96\n",
       "\n",
       "[66043 rows x 3 columns]"
      ]
     },
     "execution_count": 99,
     "metadata": {},
     "output_type": "execute_result"
    }
   ],
   "source": []
  }
 ],
 "metadata": {
  "kernelspec": {
   "display_name": "ML",
   "language": "python",
   "name": "python3"
  },
  "language_info": {
   "codemirror_mode": {
    "name": "ipython",
    "version": 3
   },
   "file_extension": ".py",
   "mimetype": "text/x-python",
   "name": "python",
   "nbconvert_exporter": "python",
   "pygments_lexer": "ipython3",
   "version": "3.11.8"
  }
 },
 "nbformat": 4,
 "nbformat_minor": 2
}
