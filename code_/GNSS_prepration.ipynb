{
 "cells": [
  {
   "cell_type": "code",
   "execution_count": 1,
   "metadata": {},
   "outputs": [],
   "source": [
    "import pandas as pd \n",
    "import os"
   ]
  },
  {
   "cell_type": "code",
   "execution_count": 6,
   "metadata": {},
   "outputs": [],
   "source": [
    "\n",
    "folder  =  r'c:\\Users\\S4055367\\OneDrive - RMIT University\\Desktop\\gnss_excels/'\n",
    "\n",
    "entries = os.listdir( folder )\n",
    "\n",
    "List = []\n",
    "\n",
    "for i in range(len(entries)) :\n",
    "\n",
    "    fp = folder + entries[i] \n",
    "\n",
    "    df= pd.read_excel(fp) \n",
    "\n",
    "    List.append(df)\n",
    "\n",
    "out_df = pd.concat(List)\n",
    "\n",
    "out_df.to_excel(  r'c:\\Users\\S4055367\\OneDrive - RMIT University\\Desktop\\all_GNSS.xlsx' )"
   ]
  },
  {
   "cell_type": "code",
   "execution_count": 8,
   "metadata": {},
   "outputs": [],
   "source": [
    "ex_st = pd.read_excel(r'c:\\Users\\S4055367\\OneDrive - RMIT University\\Desktop\\Name.xls')\n",
    "station_na = list(ex_st['station_na'])\n",
    "List_name = [ ]\n",
    "for n in station_na : \n",
    "    List_name.append( out_df[ out_df['station_name']  == n  ] ) \n",
    "area_df = pd.concat( List_name ) \n",
    "area_df.to_excel( r'c:\\Users\\S4055367\\OneDrive - RMIT University\\Desktop\\area_GNSS.xlsx' )"
   ]
  }
 ],
 "metadata": {
  "kernelspec": {
   "display_name": "Reza",
   "language": "python",
   "name": "python3"
  },
  "language_info": {
   "codemirror_mode": {
    "name": "ipython",
    "version": 3
   },
   "file_extension": ".py",
   "mimetype": "text/x-python",
   "name": "python",
   "nbconvert_exporter": "python",
   "pygments_lexer": "ipython3",
   "version": "3.10.13"
  }
 },
 "nbformat": 4,
 "nbformat_minor": 2
}
