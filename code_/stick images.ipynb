{
 "cells": [
  {
   "cell_type": "code",
   "execution_count": 2,
   "metadata": {},
   "outputs": [],
   "source": [
    "import sys\n",
    "from PIL import Image\n",
    "import numpy as np\n",
    "import PIL\n",
    "\n",
    "Folder = r'D:/Projects/precipitation_AUS/New Fig/'\n",
    "\n",
    "list_im = []\n",
    "\n",
    "Files = [ [ r\"D:\\Projects\\precipitation_AUS\\New Fig\\overall-h.PNG\",\n",
    "r\"D:\\Projects\\precipitation_AUS\\New Fig\\overall-e.PNG\"]]\n",
    "\n",
    "\n",
    "for i  in range(len(Files)) :\n",
    "  fps = Files[i]\n",
    "  images = [Image.open(x) for x in fps]\n",
    "\n",
    "  widths, heights = zip(*(i.size for i in images))\n",
    "\n",
    "  total_width = sum(widths)\n",
    "  max_height = max(heights)\n",
    "\n",
    "  new_im = Image.new('RGB', (total_width, max_height))\n",
    "\n",
    "  x_offset = 0\n",
    "\n",
    "  for im in images:\n",
    "    new_im.paste(im, (x_offset,0) )\n",
    "    x_offset += im.size[0]\n",
    "\n",
    "  new_im.save(Folder+str(i)+'.png')\n",
    "  list_im.append(Folder+str(i)+'.png' )\n",
    "\n",
    "\n",
    "imgs    = [ Image.open(i) for i in list_im ]\n",
    "# pick the image which is the smallest, and resize the others to match it (can be arbitrary image shape here)\n",
    "min_shape = sorted( [(np.sum(i.size), i.size ) for i in imgs])[0][1]\n",
    "imgs_comb = np.hstack([i.resize(min_shape) for i in imgs])\n",
    "\n",
    "# for a vertical stacking it is simple: use vstack\n",
    "imgs_comb = np.vstack([i.resize(min_shape) for i in imgs])\n",
    "imgs_comb = Image.fromarray( imgs_comb)\n",
    "imgs_comb.save( Folder+ \"/overall-text.png\" )\n",
    "\n"
   ]
  },
  {
   "cell_type": "code",
   "execution_count": 16,
   "metadata": {},
   "outputs": [
    {
     "data": {
      "text/plain": [
       "'D:/Projects/precipitation_AUS/New Fig/states//23Feb2022-Roebbers.png'"
      ]
     },
     "execution_count": 16,
     "metadata": {},
     "output_type": "execute_result"
    }
   ],
   "source": [
    "Folder+ \"/23Feb2022-Roebbers.png\" "
   ]
  },
  {
   "cell_type": "markdown",
   "metadata": {},
   "source": [
    "# add text to the image"
   ]
  },
  {
   "cell_type": "code",
   "execution_count": 57,
   "metadata": {},
   "outputs": [],
   "source": [
    "from PIL import Image, ImageDraw, ImageFont # 👉️ Import modules from PIL\n",
    "import numpy as np\n",
    "\n",
    "Folder = r'D:/Projects/precipitation_AUS/New Fig/'\n",
    "fp = r\"D:\\Projects\\precipitation_AUS\\New Fig\\23-Feb-2022.png\"\n",
    "img = Image.open(fp) # 👉️ Open Image\n",
    "\n",
    "Shape = np.array(img).shape\n",
    "\n",
    "texts = [ \"a)\"   , 'b)'   , 'c)'    , \n",
    "         'd)'   ,  'e)'   ,  'f)'   ,\n",
    "         'g)'   ,  'h)'    ,  'i) ']   # 👉️ Text to add to Image\n",
    "\n",
    "font_path = r\"C:\\Users\\S4055367\\Downloads\\times.ttf\"# 👉️ Font .ttf Path\n",
    "\n",
    "font_size = 85 # 👉️ Font Size\n",
    "x_mid = int(Shape[0] /3 )\n",
    "y_mid =  int(Shape[1] /3 )\n",
    "offset_x = 200\n",
    "offset_y = -210 \n",
    "\n",
    "XY = [ (50,30)  , ( x_mid-offset_x , 30 )  ,  ((x_mid-offset_x) *2 , 30  )  ,  \n",
    "       (50,  y_mid -offset_y)  , ( x_mid-offset_x  , y_mid-offset_y )  ,  ((x_mid-offset_x) *2  , y_mid-offset_y  )  ,\n",
    "       (50,(y_mid-offset_y) *2 )  , ( x_mid-offset_x  , (y_mid-offset_y) *2  )  ,  ((x_mid-offset_x) *2 , (y_mid-offset_y) *2   )       ]  \n",
    "\n",
    "\n",
    "\n",
    "for i in range(len(texts)):\n",
    "\n",
    "    x, y = XY[i] # 👉️ Top left corner of the text\n",
    "\n",
    "    my_text  = texts[i]\n",
    "    \n",
    "    dr = ImageDraw.Draw(img) # 👉️ Create New Image\n",
    "\n",
    "    my_font = ImageFont.truetype(font_path, font_size) # 👉️ Initialize Font\n",
    "\n",
    "    dr.text((x, y), my_text, font=my_font  ,fill='black' ) # 👉️ Add text to image\n",
    "\n",
    "img.save(fp + r'-text.png') \n",
    "img.show()"
   ]
  },
  {
   "cell_type": "code",
   "execution_count": 27,
   "metadata": {},
   "outputs": [
    {
     "data": {
      "text/plain": [
       "(4121, 3508, 4)"
      ]
     },
     "execution_count": 27,
     "metadata": {},
     "output_type": "execute_result"
    }
   ],
   "source": [
    "Shape"
   ]
  },
  {
   "cell_type": "markdown",
   "metadata": {},
   "source": [
    "# images to png"
   ]
  },
  {
   "cell_type": "code",
   "execution_count": 10,
   "metadata": {},
   "outputs": [],
   "source": [
    "Input_folder = r\"D:\\Projects\\precipitation_AUS\\Fig\\Figures/\"\n",
    "Output_folder = r\"D:\\Projects\\precipitation_AUS\\Fig\\Figures_png/\"\n",
    "\n",
    "import os\n",
    "\n",
    "try: os.mkdir(Output_folder)\n",
    "except: pass\n",
    "\n",
    "files = os.listdir(Input_folder)\n",
    "\n",
    "for file in files:\n",
    "    fp= Input_folder+file\n",
    "    img = Image.open(fp)# 👉️ Open Image\n",
    "\n",
    "    img.save(Output_folder+file[:-4]+'.png')\n",
    "    \n"
   ]
  },
  {
   "cell_type": "code",
   "execution_count": 42,
   "metadata": {},
   "outputs": [],
   "source": [
    "img.show()"
   ]
  },
  {
   "cell_type": "code",
   "execution_count": 20,
   "metadata": {},
   "outputs": [],
   "source": [
    "img.save(Folder+ \"/test.jpg\") # 👉️ save Image"
   ]
  }
 ],
 "metadata": {
  "kernelspec": {
   "display_name": "ML",
   "language": "python",
   "name": "python3"
  },
  "language_info": {
   "codemirror_mode": {
    "name": "ipython",
    "version": 3
   },
   "file_extension": ".py",
   "mimetype": "text/x-python",
   "name": "python",
   "nbconvert_exporter": "python",
   "pygments_lexer": "ipython3",
   "version": "3.12.3"
  }
 },
 "nbformat": 4,
 "nbformat_minor": 2
}
