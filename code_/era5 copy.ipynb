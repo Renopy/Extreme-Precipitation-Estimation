{
 "cells": [
  {
   "cell_type": "markdown",
   "id": "11a485a3",
   "metadata": {},
   "source": [
    "# IMERG netcdf to a single file "
   ]
  },
  {
   "cell_type": "code",
   "execution_count": 8,
   "id": "f92f9bf6",
   "metadata": {},
   "outputs": [],
   "source": [
    "import numpy as np \n",
    "import pandas as pd \n",
    "import netCDF4\n",
    "from datetime import datetime as Time\n",
    "from datetime import timedelta as Delta\n",
    "import h5py\n",
    "from tqdm import tqdm \n",
    "\n",
    "def nc_to_pd(nc):\n",
    "    try:\n",
    "        Keys = list(nc.keys())\n",
    "    except:\n",
    "        Keys = list(nc.variables)\n",
    "    Panda = {}\n",
    "    for k in Keys:\n",
    "        try:\n",
    "            Panda[k]= np.array(nc[k] )\n",
    "            PD = pd.DataFrame( Panda )\n",
    "        except:\n",
    "            Panda[k] = np.array(nc[k]).T[0]\n",
    "            PD = pd.DataFrame( Panda )\n",
    "            pass\n",
    "    return PD , Panda\n",
    "\n",
    "def number_to_date(number):\n",
    "    start_date  = \"01/01/1900\"\n",
    "    date_1 = pd.to_datetime(start_date)\n",
    "    end_date = date_1 + pd.DateOffset(hours=number) \n",
    "    return end_date\n",
    "\n",
    "\n",
    "def Dict_to_hdf(Dict , of ):\n",
    "    try: HDF.close()   \n",
    "    except: pass\n",
    "    \n",
    "    HDF = h5py.File(of, 'w' , driver='core')\n",
    "    n_k = len(Dict)\n",
    "    Keys = list(Dict.keys())\n",
    "\n",
    "    for i in  tqdm( range( 0 , n_k), desc=\"Writing HDF5...\" , ncols= 100  ,colour='red') :\n",
    "        k = Keys[i] \n",
    "        test = HDF.create_dataset( k , data = Dict[k]  )\n",
    "    HDF.close()   \n",
    "\n",
    "def dd(d) :\n",
    "    if d< 10 :return '0' + str(d)\n",
    "    else: return  str(d)"
   ]
  },
  {
   "cell_type": "markdown",
   "id": "df915624",
   "metadata": {},
   "source": [
    "### Inputs"
   ]
  },
  {
   "cell_type": "code",
   "execution_count": 11,
   "id": "95f9c62f",
   "metadata": {},
   "outputs": [],
   "source": [
    "Folder_imerg = r'd:\\DatasetAUS\\IMERG-LD6/'\n",
    "of  = r'd:\\DatasetAUS\\IMERG_HQP_20130101-20240323-1.hdf5'\n",
    "\n",
    "start = Time( 2013  , 1  , 1 )\n",
    "end = Time( 2024 , 3  , 23 )\n",
    "\n",
    "\n"
   ]
  },
  {
   "cell_type": "code",
   "execution_count": 10,
   "id": "08e2d9b7",
   "metadata": {},
   "outputs": [
    {
     "name": "stderr",
     "output_type": "stream",
     "text": [
      "Reading IMERG files ...: 100%|\u001b[34m██████████████████████████████████\u001b[0m| 4100/4100 [00:58<00:00, 69.68it/s]\u001b[0m\n"
     ]
    },
    {
     "ename": "OSError",
     "evalue": "Unable to synchronously create file (unable to truncate a file which is already open)",
     "output_type": "error",
     "traceback": [
      "\u001b[1;31m---------------------------------------------------------------------------\u001b[0m",
      "\u001b[1;31mOSError\u001b[0m                                   Traceback (most recent call last)",
      "Cell \u001b[1;32mIn[10], line 16\u001b[0m\n\u001b[0;32m     13\u001b[0m out_dict[\u001b[38;5;124m'\u001b[39m\u001b[38;5;124mlon\u001b[39m\u001b[38;5;124m'\u001b[39m] \u001b[38;5;241m=\u001b[39m np\u001b[38;5;241m.\u001b[39marray(nc[\u001b[38;5;124m'\u001b[39m\u001b[38;5;124mlon\u001b[39m\u001b[38;5;124m'\u001b[39m] )\n\u001b[0;32m     14\u001b[0m out_dict[\u001b[38;5;124m'\u001b[39m\u001b[38;5;124mlat\u001b[39m\u001b[38;5;124m'\u001b[39m] \u001b[38;5;241m=\u001b[39m np\u001b[38;5;241m.\u001b[39marray(nc[\u001b[38;5;124m'\u001b[39m\u001b[38;5;124mlat\u001b[39m\u001b[38;5;124m'\u001b[39m] )\n\u001b[1;32m---> 16\u001b[0m Dict_to_hdf(out_dict , of  )\n",
      "Cell \u001b[1;32mIn[8], line 36\u001b[0m, in \u001b[0;36mDict_to_hdf\u001b[1;34m(Dict, of)\u001b[0m\n\u001b[0;32m     33\u001b[0m \u001b[38;5;28;01mtry\u001b[39;00m: HDF\u001b[38;5;241m.\u001b[39mclose()   \n\u001b[0;32m     34\u001b[0m \u001b[38;5;28;01mexcept\u001b[39;00m: \u001b[38;5;28;01mpass\u001b[39;00m\n\u001b[1;32m---> 36\u001b[0m HDF \u001b[38;5;241m=\u001b[39m h5py\u001b[38;5;241m.\u001b[39mFile(of, \u001b[38;5;124m'\u001b[39m\u001b[38;5;124mw\u001b[39m\u001b[38;5;124m'\u001b[39m , driver\u001b[38;5;241m=\u001b[39m\u001b[38;5;124m'\u001b[39m\u001b[38;5;124mcore\u001b[39m\u001b[38;5;124m'\u001b[39m)\n\u001b[0;32m     37\u001b[0m n_k \u001b[38;5;241m=\u001b[39m \u001b[38;5;28mlen\u001b[39m(Dict)\n\u001b[0;32m     38\u001b[0m Keys \u001b[38;5;241m=\u001b[39m \u001b[38;5;28mlist\u001b[39m(Dict\u001b[38;5;241m.\u001b[39mkeys())\n",
      "File \u001b[1;32mc:\\Users\\S4055367\\AppData\\Local\\anaconda3\\envs\\Reza2\\Lib\\site-packages\\h5py\\_hl\\files.py:562\u001b[0m, in \u001b[0;36mFile.__init__\u001b[1;34m(self, name, mode, driver, libver, userblock_size, swmr, rdcc_nslots, rdcc_nbytes, rdcc_w0, track_order, fs_strategy, fs_persist, fs_threshold, fs_page_size, page_buf_size, min_meta_keep, min_raw_keep, locking, alignment_threshold, alignment_interval, meta_block_size, **kwds)\u001b[0m\n\u001b[0;32m    553\u001b[0m     fapl \u001b[38;5;241m=\u001b[39m make_fapl(driver, libver, rdcc_nslots, rdcc_nbytes, rdcc_w0,\n\u001b[0;32m    554\u001b[0m                      locking, page_buf_size, min_meta_keep, min_raw_keep,\n\u001b[0;32m    555\u001b[0m                      alignment_threshold\u001b[38;5;241m=\u001b[39malignment_threshold,\n\u001b[0;32m    556\u001b[0m                      alignment_interval\u001b[38;5;241m=\u001b[39malignment_interval,\n\u001b[0;32m    557\u001b[0m                      meta_block_size\u001b[38;5;241m=\u001b[39mmeta_block_size,\n\u001b[0;32m    558\u001b[0m                      \u001b[38;5;241m*\u001b[39m\u001b[38;5;241m*\u001b[39mkwds)\n\u001b[0;32m    559\u001b[0m     fcpl \u001b[38;5;241m=\u001b[39m make_fcpl(track_order\u001b[38;5;241m=\u001b[39mtrack_order, fs_strategy\u001b[38;5;241m=\u001b[39mfs_strategy,\n\u001b[0;32m    560\u001b[0m                      fs_persist\u001b[38;5;241m=\u001b[39mfs_persist, fs_threshold\u001b[38;5;241m=\u001b[39mfs_threshold,\n\u001b[0;32m    561\u001b[0m                      fs_page_size\u001b[38;5;241m=\u001b[39mfs_page_size)\n\u001b[1;32m--> 562\u001b[0m     fid \u001b[38;5;241m=\u001b[39m make_fid(name, mode, userblock_size, fapl, fcpl, swmr\u001b[38;5;241m=\u001b[39mswmr)\n\u001b[0;32m    564\u001b[0m \u001b[38;5;28;01mif\u001b[39;00m \u001b[38;5;28misinstance\u001b[39m(libver, \u001b[38;5;28mtuple\u001b[39m):\n\u001b[0;32m    565\u001b[0m     \u001b[38;5;28mself\u001b[39m\u001b[38;5;241m.\u001b[39m_libver \u001b[38;5;241m=\u001b[39m libver\n",
      "File \u001b[1;32mc:\\Users\\S4055367\\AppData\\Local\\anaconda3\\envs\\Reza2\\Lib\\site-packages\\h5py\\_hl\\files.py:241\u001b[0m, in \u001b[0;36mmake_fid\u001b[1;34m(name, mode, userblock_size, fapl, fcpl, swmr)\u001b[0m\n\u001b[0;32m    239\u001b[0m     fid \u001b[38;5;241m=\u001b[39m h5f\u001b[38;5;241m.\u001b[39mcreate(name, h5f\u001b[38;5;241m.\u001b[39mACC_EXCL, fapl\u001b[38;5;241m=\u001b[39mfapl, fcpl\u001b[38;5;241m=\u001b[39mfcpl)\n\u001b[0;32m    240\u001b[0m \u001b[38;5;28;01melif\u001b[39;00m mode \u001b[38;5;241m==\u001b[39m \u001b[38;5;124m'\u001b[39m\u001b[38;5;124mw\u001b[39m\u001b[38;5;124m'\u001b[39m:\n\u001b[1;32m--> 241\u001b[0m     fid \u001b[38;5;241m=\u001b[39m h5f\u001b[38;5;241m.\u001b[39mcreate(name, h5f\u001b[38;5;241m.\u001b[39mACC_TRUNC, fapl\u001b[38;5;241m=\u001b[39mfapl, fcpl\u001b[38;5;241m=\u001b[39mfcpl)\n\u001b[0;32m    242\u001b[0m \u001b[38;5;28;01melif\u001b[39;00m mode \u001b[38;5;241m==\u001b[39m \u001b[38;5;124m'\u001b[39m\u001b[38;5;124ma\u001b[39m\u001b[38;5;124m'\u001b[39m:\n\u001b[0;32m    243\u001b[0m     \u001b[38;5;66;03m# Open in append mode (read/write).\u001b[39;00m\n\u001b[0;32m    244\u001b[0m     \u001b[38;5;66;03m# If that fails, create a new file only if it won't clobber an\u001b[39;00m\n\u001b[0;32m    245\u001b[0m     \u001b[38;5;66;03m# existing one (ACC_EXCL)\u001b[39;00m\n\u001b[0;32m    246\u001b[0m     \u001b[38;5;28;01mtry\u001b[39;00m:\n",
      "File \u001b[1;32mh5py\\_objects.pyx:54\u001b[0m, in \u001b[0;36mh5py._objects.with_phil.wrapper\u001b[1;34m()\u001b[0m\n",
      "File \u001b[1;32mh5py\\_objects.pyx:55\u001b[0m, in \u001b[0;36mh5py._objects.with_phil.wrapper\u001b[1;34m()\u001b[0m\n",
      "File \u001b[1;32mh5py\\h5f.pyx:122\u001b[0m, in \u001b[0;36mh5py.h5f.create\u001b[1;34m()\u001b[0m\n",
      "\u001b[1;31mOSError\u001b[0m: Unable to synchronously create file (unable to truncate a file which is already open)"
     ]
    }
   ],
   "source": [
    "\n",
    "n_days = (end - start).days\n",
    "\n",
    "out_dict = {}\n",
    "\n",
    "for d in  tqdm( range( 0 , n_days+1), desc=\"Reading IMERG files ...\" , ncols= 100  ,colour='blue') :\n",
    "    this_time = start +  Delta(days= d)\n",
    "    file =  '3B-DAY-L.MS.MRG.3IMERG.' + dd(this_time.year) +dd(this_time.month)  + dd(this_time.day) + '-S000000-E235959.V06.nc4.nc4'\n",
    "    fp = Folder_imerg + file\n",
    "    nc = netCDF4.Dataset(fp)\n",
    "    out_dict[dd(this_time.year)+ '-'+dd(this_time.month) + '-' + dd(this_time.day)] = np.array(nc['HQprecipitation'] )[0]\n",
    "    # cal_p = np.array(nc['precipitationCal'] )[0]\n",
    "\n",
    "out_dict['lon'] = np.array(nc['lon'] )\n",
    "out_dict['lat'] = np.array(nc['lat'] )\n",
    "\n",
    "Dict_to_hdf(out_dict , of  )\n",
    "\n"
   ]
  },
  {
   "cell_type": "code",
   "execution_count": 12,
   "id": "301e60f8",
   "metadata": {},
   "outputs": [
    {
     "name": "stderr",
     "output_type": "stream",
     "text": [
      "Writing HDF5...: 100%|\u001b[31m██████████████████████████████████████████\u001b[0m| 4102/4102 [27:29<00:00,  2.49it/s]\u001b[0m\n"
     ]
    }
   ],
   "source": [
    "Dict_to_hdf(out_dict , of  )\n"
   ]
  },
  {
   "cell_type": "code",
   "execution_count": null,
   "id": "72b46374",
   "metadata": {},
   "outputs": [],
   "source": [
    "def Join_IMERG(Folder_imerg  , start , end , band ):\n",
    "    bands ={\n",
    "    'HQprecipitation' ,\n",
    "    'precipitationCal' }\n",
    "    \n",
    "    n_days = (end - start).days\n",
    "\n",
    "    out_dict = {}\n",
    "\n",
    "    for d in  tqdm( range( 0 , n_days+1), desc=\"Reading IMERG files ...\" , ncols= 100  ,colour='blue') :\n",
    "        this_time = start +  Delta(days= d)\n",
    "        file =  '3B-DAY-L.MS.MRG.3IMERG.' + dd(this_time.year) +dd(this_time.month)  + dd(this_time.day) + '-S000000-E235959.V06.nc4.nc4'\n",
    "        fp = Folder_imerg + file\n",
    "        nc = netCDF4.Dataset(fp)\n",
    "        out_dict[dd(this_time.year)+ '-'+dd(this_time.month) + '-' + dd(this_time.day)] = np.array(nc[band] )[0]\n",
    "        # cal_p = np.array(nc['precipitationCal'] )[0]\n",
    "\n",
    "    out_dict['lon'] = np.array(nc['lon'] )\n",
    "    out_dict['lat'] = np.array(nc['lat'] )\n",
    "\n",
    "    return out_dict\n",
    "            "
   ]
  }
 ],
 "metadata": {
  "kernelspec": {
   "display_name": "Python 3 (ipykernel)",
   "language": "python",
   "name": "python3"
  },
  "language_info": {
   "codemirror_mode": {
    "name": "ipython",
    "version": 3
   },
   "file_extension": ".py",
   "mimetype": "text/x-python",
   "name": "python",
   "nbconvert_exporter": "python",
   "pygments_lexer": "ipython3",
   "version": "3.11.8"
  }
 },
 "nbformat": 4,
 "nbformat_minor": 5
}
