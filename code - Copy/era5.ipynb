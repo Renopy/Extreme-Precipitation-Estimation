{
 "cells": [
  {
   "cell_type": "markdown",
   "id": "11a485a3",
   "metadata": {},
   "source": [
    "# ERA5 Data_Extraction\n",
    "\n"
   ]
  },
  {
   "cell_type": "code",
   "execution_count": 1,
   "id": "f92f9bf6",
   "metadata": {},
   "outputs": [],
   "source": [
    "import numpy as np \n",
    "import pandas as pd \n",
    "import netCDF4\n",
    "from datetime import datetime as Time\n",
    "from datetime import timedelta as Delta\n",
    "import h5py\n",
    "\n",
    "def nc_to_pd(nc):\n",
    "    try:\n",
    "        Keys = list(nc.keys())\n",
    "    except:\n",
    "        Keys = list(nc.variables)\n",
    "    Panda = {}\n",
    "    for k in Keys:\n",
    "        try:\n",
    "            Panda[k]= np.array(nc[k] )\n",
    "            PD = pd.DataFrame( Panda )\n",
    "        except:\n",
    "            Panda[k] = np.array(nc[k]).T[0]\n",
    "            PD = pd.DataFrame( Panda )\n",
    "            pass\n",
    "    return PD , Panda\n",
    "\n",
    "def number_to_date(number):\n",
    "    start_date  = \"01/01/1900\"\n",
    "    date_1 = pd.to_datetime(start_date)\n",
    "    end_date = date_1 + pd.DateOffset(hours=number) \n",
    "    return end_date\n",
    "\n",
    "\n",
    "def Dict_to_hdf(Dict , of ):\n",
    "    try: HDF.close()   \n",
    "    except: pass\n",
    "    \n",
    "    HDF = h5py.File(of, 'w' , driver='core')\n",
    "    for k in Dict :    \n",
    "        test = HDF.create_dataset( k , data = Dict[k]  )\n",
    "    HDF.close()   \n"
   ]
  },
  {
   "cell_type": "code",
   "execution_count": 17,
   "id": "95f9c62f",
   "metadata": {},
   "outputs": [],
   "source": [
    "\n",
    "\n",
    "def ERA5_nc_hourly_to_daily( fp_netcdf , var = None ):\n",
    "    nc = netCDF4.Dataset(fp_netcdf)\n",
    "    Keys = list( nc.variables.keys() ) \n",
    "    lon = np.array(nc['longitude'])\n",
    "    lat = np.array(nc['latitude'])\n",
    "    time = np.array(nc['time'])\n",
    "    if var == None : variable = Keys[-1]\n",
    "    else:  variable = var\n",
    "    date_0 = number_to_date(int(time[0]))\n",
    "    date_f = number_to_date(int(time[-1]))\n",
    "\n",
    "    start =  Time( date_0.year  , date_0.month , date_0.day  )\n",
    "    end = Time( date_f.year  , date_f.month , date_f.day )\n",
    "\n",
    "    delta = Delta(days = 1 )\n",
    "\n",
    "    this_time =  start\n",
    "\n",
    "    i = 0 \n",
    "    out = {}\n",
    "    Shape =  np.array(nc[variable]).shape\n",
    "    print(Shape)\n",
    "    \n",
    "    while this_time <= end :\n",
    "        j = i +24\n",
    "        if len(Shape) == 4 : \n",
    "            img  = np.array(nc[variable][  i:j , 0 , : , :   ] )\n",
    "        elif len(Shape) == 3 :\n",
    "            img  = np.array(nc[variable][  i:j ,  :  ,  :   ] )\n",
    "        T = np.mean( img , axis = 0) \n",
    "        out[str(this_time)[:10]] = T\n",
    "        i = i +  24\n",
    "\n",
    "        this_time = this_time + Delta(days = 1 )\n",
    "        \n",
    "\n",
    "    out['lat'] = lat \n",
    "    out['lon'] = lon \n",
    "\n",
    "    cache = [start , end , var]\n",
    "\n",
    "    out['cache'] = [str(start) , str(end) , variable]\n",
    "    \n",
    "    return out , cache \n"
   ]
  },
  {
   "cell_type": "markdown",
   "id": "39b62b34",
   "metadata": {},
   "source": [
    "# Just one file "
   ]
  },
  {
   "cell_type": "code",
   "execution_count": 2,
   "id": "c7f2fa0f",
   "metadata": {},
   "outputs": [
    {
     "ename": "NameError",
     "evalue": "name 'ERA5_nc_hourly_to_daily' is not defined",
     "output_type": "error",
     "traceback": [
      "\u001b[1;31m---------------------------------------------------------------------------\u001b[0m",
      "\u001b[1;31mNameError\u001b[0m                                 Traceback (most recent call last)",
      "Cell \u001b[1;32mIn[2], line 3\u001b[0m\n\u001b[0;32m      1\u001b[0m fp_netcdf \u001b[38;5;241m=\u001b[39m \u001b[38;5;124mr\u001b[39m\u001b[38;5;124m'\u001b[39m\u001b[38;5;124md:\u001b[39m\u001b[38;5;124m\\\u001b[39m\u001b[38;5;124mDatasetAUS\u001b[39m\u001b[38;5;124m\\\u001b[39m\u001b[38;5;124mERA5\u001b[39m\u001b[38;5;124m\\\u001b[39m\u001b[38;5;124mNew folder\u001b[39m\u001b[38;5;124m\\\u001b[39m\u001b[38;5;124m2024.nc\u001b[39m\u001b[38;5;124m'\u001b[39m\n\u001b[0;32m      2\u001b[0m of  \u001b[38;5;241m=\u001b[39m \u001b[38;5;124mr\u001b[39m\u001b[38;5;124m'\u001b[39m\u001b[38;5;124md:\u001b[39m\u001b[38;5;124m\\\u001b[39m\u001b[38;5;124mDatasetAUS\u001b[39m\u001b[38;5;124m\\\u001b[39m\u001b[38;5;124mERA5\u001b[39m\u001b[38;5;124m\\\u001b[39m\u001b[38;5;124mNew folder\u001b[39m\u001b[38;5;124m\\\u001b[39m\u001b[38;5;124mera5-test.hdf5\u001b[39m\u001b[38;5;124m'\u001b[39m\n\u001b[1;32m----> 3\u001b[0m out , cache \u001b[38;5;241m=\u001b[39m \u001b[43mERA5_nc_hourly_to_daily\u001b[49m( fp_netcdf   , \u001b[38;5;124m'\u001b[39m\u001b[38;5;124mt2m\u001b[39m\u001b[38;5;124m'\u001b[39m )\n",
      "\u001b[1;31mNameError\u001b[0m: name 'ERA5_nc_hourly_to_daily' is not defined"
     ]
    }
   ],
   "source": [
    "fp_netcdf = r'd:\\DatasetAUS\\ERA5\\New folder\\2024.nc'\n",
    "of  = r'd:\\DatasetAUS\\ERA5\\New folder\\era5-test.hdf5'\n",
    "out , cache = ERA5_nc_hourly_to_daily( fp_netcdf   , 't2m' )\n",
    "\n"
   ]
  },
  {
   "cell_type": "code",
   "execution_count": 3,
   "id": "bc0f0ee8",
   "metadata": {},
   "outputs": [],
   "source": [
    "fp = r'd:\\DatasetAUS\\ERA5\\New folder\\2024.nc'\n",
    "nc = netCDF4.Dataset(fp)"
   ]
  },
  {
   "cell_type": "code",
   "execution_count": 13,
   "id": "97b24876",
   "metadata": {},
   "outputs": [
    {
     "data": {
      "text/plain": [
       "[datetime.datetime(2024, 1, 1, 0, 0),\n",
       " datetime.datetime(2024, 4, 6, 0, 0),\n",
       " 't2m']"
      ]
     },
     "execution_count": 13,
     "metadata": {},
     "output_type": "execute_result"
    }
   ],
   "source": [
    "'t2m', 'cape', 'msl', 'tcw'"
   ]
  },
  {
   "cell_type": "code",
   "execution_count": null,
   "id": "2293db39",
   "metadata": {},
   "outputs": [],
   "source": [
    "Dict_to_hdf(out , of )"
   ]
  },
  {
   "cell_type": "markdown",
   "id": "5f6a5db0",
   "metadata": {},
   "source": [
    "# Using a Folder of ERA5 hourly netcdf files"
   ]
  },
  {
   "cell_type": "code",
   "execution_count": 20,
   "id": "a43d81b8",
   "metadata": {},
   "outputs": [
    {
     "name": "stdout",
     "output_type": "stream",
     "text": [
      "cape\n",
      "(2306, 2, 169, 281)\n",
      "(8760, 169, 281)\n",
      "(8760, 169, 281)\n",
      "(8760, 169, 281)\n",
      "(8784, 169, 281)\n",
      "(8760, 169, 281)\n",
      "(8760, 169, 281)\n",
      "(8760, 169, 281)\n",
      "(8784, 169, 281)\n",
      "(8760, 169, 281)\n",
      "(8760, 169, 281)\n",
      "msl\n",
      "(2306, 2, 169, 281)\n",
      "(8760, 169, 281)\n",
      "(8760, 169, 281)\n",
      "(8760, 169, 281)\n",
      "(8784, 169, 281)\n",
      "(8760, 169, 281)\n",
      "(8760, 169, 281)\n",
      "(8760, 169, 281)\n",
      "(8784, 169, 281)\n",
      "(8760, 169, 281)\n",
      "(8760, 169, 281)\n",
      "tcw\n",
      "(2306, 2, 169, 281)\n",
      "(8760, 169, 281)\n",
      "(8760, 169, 281)\n",
      "(8760, 169, 281)\n",
      "(8784, 169, 281)\n",
      "(8760, 169, 281)\n",
      "(8760, 169, 281)\n",
      "(8760, 169, 281)\n",
      "(8784, 169, 281)\n",
      "(8760, 169, 281)\n",
      "(8760, 169, 281)\n"
     ]
    }
   ],
   "source": [
    "\n",
    "\n",
    "Folder_input = r\"D:/DatasetAUS/ERA5/New folder/\"\n",
    "import os \n",
    "\n",
    "for k in ['cape', 'msl', 'tcw']:\n",
    "    print(k)\n",
    "    of_Folder = 'd:/DatasetAUS/ERA5/'+ k +'/' \n",
    "    try: os.mkdir( of_Folder)\n",
    "    except: pass\n",
    "\n",
    "    entries = os.listdir(Folder_input)\n",
    "\n",
    "    for file in entries  :\n",
    "        fp_netcdf  = Folder_input + file\n",
    "        out , cache = ERA5_nc_hourly_to_daily( fp_netcdf   , k)\n",
    "        of_name = str(cache[0])[:10] + '-' +str(cache[1])[:10] +'-' + cache[2] + '.hdf5'\n",
    "        Dict_to_hdf(out , of_Folder  +of_name )\n",
    "\n"
   ]
  },
  {
   "cell_type": "markdown",
   "id": "7aa79951",
   "metadata": {},
   "source": [
    "# Joining HDF5 files"
   ]
  },
  {
   "cell_type": "code",
   "execution_count": 39,
   "id": "33b42670",
   "metadata": {},
   "outputs": [],
   "source": [
    "from numpy import dtype \n",
    "import os \n",
    "\n",
    "\n",
    "def JOIN_hdf5(FOLDER):\n",
    "    # Should HAVE same lat , long \n",
    "    Dict ={}\n",
    "    entries = os.listdir(Folder_input)\n",
    "    for i in range(len(entries)):\n",
    "        file  = entries[i] \n",
    "        fp  = Folder_input +  file \n",
    "        hdf = h5py.File(fp ) \n",
    "        Keys = list(hdf.keys())\n",
    "        for k in Keys :\n",
    "            Dict[k] = np.array(hdf[k] )\n",
    "        hdf.close()\n",
    "\n",
    "    return Dict\n",
    "\n",
    "\n"
   ]
  },
  {
   "cell_type": "code",
   "execution_count": 50,
   "id": "5acb73c9",
   "metadata": {},
   "outputs": [],
   "source": [
    "Folder_input = r\"d:\\DatasetAUS\\ERA5\\tp/\"\n",
    "\n",
    "hdf = JOIN_hdf5(FOLDER = Folder_input)\n"
   ]
  },
  {
   "cell_type": "code",
   "execution_count": 51,
   "id": "0910d54c",
   "metadata": {},
   "outputs": [],
   "source": [
    "K = list(hdf.keys())"
   ]
  },
  {
   "cell_type": "code",
   "execution_count": 60,
   "id": "244c202f",
   "metadata": {},
   "outputs": [],
   "source": [
    "Shape = hdf[K[0]].shape\n",
    "Image = np.zeros(Shape)[  :148 , 40 :220 ]\n",
    "n = 0 \n",
    "for k in K :\n",
    "    if k not in ['lat' , 'lon' , 'cache']:\n",
    "        Image += np.maximum(hdf[k] , 0 )[  :148 , 40 :220 ]\n",
    "    n+=1\n",
    "Image = Image/n"
   ]
  },
  {
   "cell_type": "code",
   "execution_count": 43,
   "id": "0ecb6ae0",
   "metadata": {},
   "outputs": [],
   "source": [
    "import tifffile as tff"
   ]
  },
  {
   "cell_type": "code",
   "execution_count": 61,
   "id": "f6d604a8",
   "metadata": {},
   "outputs": [],
   "source": [
    "tff.imwrite( r'D:\\Projects\\precipitation_AUS\\results\\Rasters/tp_subset_(8-45)S_(110-155)E.tif'  ,  Image*24*1000)"
   ]
  },
  {
   "cell_type": "code",
   "execution_count": 45,
   "id": "3f595ac1",
   "metadata": {},
   "outputs": [
    {
     "data": {
      "text/plain": [
       "array([b'2024-01-01 00:00:00', b'2024-04-06 00:00:00', b'tcw'],\n",
       "      dtype=object)"
      ]
     },
     "execution_count": 45,
     "metadata": {},
     "output_type": "execute_result"
    }
   ],
   "source": [
    "hdf['cache']"
   ]
  },
  {
   "cell_type": "code",
   "execution_count": 58,
   "id": "5a6dfdd4",
   "metadata": {},
   "outputs": [
    {
     "data": {
      "text/plain": [
       "(array([148], dtype=int64),)"
      ]
     },
     "execution_count": 58,
     "metadata": {},
     "output_type": "execute_result"
    }
   ],
   "source": [
    "np.where(hdf['lat'] == -45)"
   ]
  },
  {
   "cell_type": "code",
   "execution_count": 22,
   "id": "75d669dd",
   "metadata": {},
   "outputs": [
    {
     "data": {
      "text/plain": [
       "array([100.  , 100.25, 100.5 , 100.75, 101.  , 101.25, 101.5 , 101.75,\n",
       "       102.  , 102.25, 102.5 , 102.75, 103.  , 103.25, 103.5 , 103.75,\n",
       "       104.  , 104.25, 104.5 , 104.75, 105.  , 105.25, 105.5 , 105.75,\n",
       "       106.  , 106.25, 106.5 , 106.75, 107.  , 107.25, 107.5 , 107.75,\n",
       "       108.  , 108.25, 108.5 , 108.75, 109.  , 109.25, 109.5 , 109.75,\n",
       "       110.  , 110.25, 110.5 , 110.75, 111.  , 111.25, 111.5 , 111.75,\n",
       "       112.  , 112.25, 112.5 , 112.75, 113.  , 113.25, 113.5 , 113.75,\n",
       "       114.  , 114.25, 114.5 , 114.75, 115.  , 115.25, 115.5 , 115.75,\n",
       "       116.  , 116.25, 116.5 , 116.75, 117.  , 117.25, 117.5 , 117.75,\n",
       "       118.  , 118.25, 118.5 , 118.75, 119.  , 119.25, 119.5 , 119.75,\n",
       "       120.  , 120.25, 120.5 , 120.75, 121.  , 121.25, 121.5 , 121.75,\n",
       "       122.  , 122.25, 122.5 , 122.75, 123.  , 123.25, 123.5 , 123.75,\n",
       "       124.  , 124.25, 124.5 , 124.75, 125.  , 125.25, 125.5 , 125.75,\n",
       "       126.  , 126.25, 126.5 , 126.75, 127.  , 127.25, 127.5 , 127.75,\n",
       "       128.  , 128.25, 128.5 , 128.75, 129.  , 129.25, 129.5 , 129.75,\n",
       "       130.  , 130.25, 130.5 , 130.75, 131.  , 131.25, 131.5 , 131.75,\n",
       "       132.  , 132.25, 132.5 , 132.75, 133.  , 133.25, 133.5 , 133.75,\n",
       "       134.  , 134.25, 134.5 , 134.75, 135.  , 135.25, 135.5 , 135.75,\n",
       "       136.  , 136.25, 136.5 , 136.75, 137.  , 137.25, 137.5 , 137.75,\n",
       "       138.  , 138.25, 138.5 , 138.75, 139.  , 139.25, 139.5 , 139.75,\n",
       "       140.  , 140.25, 140.5 , 140.75, 141.  , 141.25, 141.5 , 141.75,\n",
       "       142.  , 142.25, 142.5 , 142.75, 143.  , 143.25, 143.5 , 143.75,\n",
       "       144.  , 144.25, 144.5 , 144.75, 145.  , 145.25, 145.5 , 145.75,\n",
       "       146.  , 146.25, 146.5 , 146.75, 147.  , 147.25, 147.5 , 147.75,\n",
       "       148.  , 148.25, 148.5 , 148.75, 149.  , 149.25, 149.5 , 149.75,\n",
       "       150.  , 150.25, 150.5 , 150.75, 151.  , 151.25, 151.5 , 151.75,\n",
       "       152.  , 152.25, 152.5 , 152.75, 153.  , 153.25, 153.5 , 153.75,\n",
       "       154.  , 154.25, 154.5 , 154.75, 155.  , 155.25, 155.5 , 155.75,\n",
       "       156.  , 156.25, 156.5 , 156.75, 157.  , 157.25, 157.5 , 157.75,\n",
       "       158.  , 158.25, 158.5 , 158.75, 159.  , 159.25, 159.5 , 159.75,\n",
       "       160.  , 160.25, 160.5 , 160.75, 161.  , 161.25, 161.5 , 161.75,\n",
       "       162.  , 162.25, 162.5 , 162.75, 163.  , 163.25, 163.5 , 163.75,\n",
       "       164.  , 164.25, 164.5 , 164.75, 165.  , 165.25, 165.5 , 165.75,\n",
       "       166.  , 166.25, 166.5 , 166.75, 167.  , 167.25, 167.5 , 167.75,\n",
       "       168.  , 168.25, 168.5 , 168.75, 169.  , 169.25, 169.5 , 169.75,\n",
       "       170.  ], dtype=float32)"
      ]
     },
     "execution_count": 22,
     "metadata": {},
     "output_type": "execute_result"
    }
   ],
   "source": [
    "hdf['lon']"
   ]
  },
  {
   "cell_type": "code",
   "execution_count": 15,
   "id": "ab88f462",
   "metadata": {},
   "outputs": [],
   "source": [
    "fp   = \"D:\\Projects\\precipitation_AUS\\models\\CNN_RA_(3,3).hdf5\" \n",
    "\n",
    "hd = h5py.File(fp)"
   ]
  },
  {
   "cell_type": "code",
   "execution_count": 16,
   "id": "ca5fc595",
   "metadata": {},
   "outputs": [],
   "source": [
    "K = list(hd.keys())"
   ]
  },
  {
   "cell_type": "code",
   "execution_count": 17,
   "id": "94928568",
   "metadata": {},
   "outputs": [
    {
     "name": "stdout",
     "output_type": "stream",
     "text": [
      "Optimizer b'adam'\n",
      "activation_function [b'relu' b'relu']\n",
      "kernels [2 2]\n",
      "layers [32 32]\n",
      "n_epoch 15\n",
      "name b'CNN_RA_(3,3)'\n",
      "ord_keys [[b'CAL_P' b'PDIR' b'ERA5_tp' b'ERA5_cape' b'ERA5_t2m' b'ERA5_tcw']\n",
      " [b'CAL_P_ave_box(3, 3)' b'PDIR_ave_box(3, 3)' b'ERA5_tp_ave_box(3, 3)'\n",
      "  b'ERA5_cape_ave_box(3, 3)' b'ERA5_t2m_ave_box(3, 3)'\n",
      "  b'ERA5_tcw_ave_box(3, 3)']\n",
      " [b'CAL_P_std_box(3, 3)' b'PDIR_std_box(3, 3)' b'ERA5_tp_std_box(3, 3)'\n",
      "  b'ERA5_cape_std_box(3, 3)' b'ERA5_t2m_std_box(3, 3)'\n",
      "  b'ERA5_tcw_std_box(3, 3)']]\n",
      "size_batch 500\n"
     ]
    }
   ],
   "source": [
    "for k in K : print( k , np.array(  hd[k]))"
   ]
  },
  {
   "cell_type": "code",
   "execution_count": 2,
   "id": "c2de33ad",
   "metadata": {},
   "outputs": [],
   "source": [
    "import os\n",
    "\n",
    "import tensorflow as tf\n",
    "import keras"
   ]
  },
  {
   "cell_type": "code",
   "execution_count": 3,
   "id": "741f9ec4",
   "metadata": {},
   "outputs": [],
   "source": []
  },
  {
   "cell_type": "code",
   "execution_count": 30,
   "id": "bb0d5cfc",
   "metadata": {},
   "outputs": [
    {
     "data": {
      "text/html": [
       "<pre style=\"white-space:pre;overflow-x:auto;line-height:normal;font-family:Menlo,'DejaVu Sans Mono',consolas,'Courier New',monospace\"><span style=\"font-weight: bold\">Model: \"sequential_12\"</span>\n",
       "</pre>\n"
      ],
      "text/plain": [
       "\u001b[1mModel: \"sequential_12\"\u001b[0m\n"
      ]
     },
     "metadata": {},
     "output_type": "display_data"
    },
    {
     "data": {
      "text/html": [
       "<pre style=\"white-space:pre;overflow-x:auto;line-height:normal;font-family:Menlo,'DejaVu Sans Mono',consolas,'Courier New',monospace\">┏━━━━━━━━━━━━━━━━━━━━━━━━━━━━━━━━━┳━━━━━━━━━━━━━━━━━━━━━━━━┳━━━━━━━━━━━━━━━┓\n",
       "┃<span style=\"font-weight: bold\"> Layer (type)                    </span>┃<span style=\"font-weight: bold\"> Output Shape           </span>┃<span style=\"font-weight: bold\">       Param # </span>┃\n",
       "┡━━━━━━━━━━━━━━━━━━━━━━━━━━━━━━━━━╇━━━━━━━━━━━━━━━━━━━━━━━━╇━━━━━━━━━━━━━━━┩\n",
       "│ conv1d_33 (<span style=\"color: #0087ff; text-decoration-color: #0087ff\">Conv1D</span>)              │ (<span style=\"color: #00d7ff; text-decoration-color: #00d7ff\">None</span>, <span style=\"color: #00af00; text-decoration-color: #00af00\">2</span>, <span style=\"color: #00af00; text-decoration-color: #00af00\">32</span>)          │           <span style=\"color: #00af00; text-decoration-color: #00af00\">416</span> │\n",
       "├─────────────────────────────────┼────────────────────────┼───────────────┤\n",
       "│ conv1d_34 (<span style=\"color: #0087ff; text-decoration-color: #0087ff\">Conv1D</span>)              │ (<span style=\"color: #00d7ff; text-decoration-color: #00d7ff\">None</span>, <span style=\"color: #00af00; text-decoration-color: #00af00\">1</span>, <span style=\"color: #00af00; text-decoration-color: #00af00\">32</span>)          │         <span style=\"color: #00af00; text-decoration-color: #00af00\">2,080</span> │\n",
       "├─────────────────────────────────┼────────────────────────┼───────────────┤\n",
       "│ flatten_9 (<span style=\"color: #0087ff; text-decoration-color: #0087ff\">Flatten</span>)             │ (<span style=\"color: #00d7ff; text-decoration-color: #00d7ff\">None</span>, <span style=\"color: #00af00; text-decoration-color: #00af00\">32</span>)             │             <span style=\"color: #00af00; text-decoration-color: #00af00\">0</span> │\n",
       "├─────────────────────────────────┼────────────────────────┼───────────────┤\n",
       "│ dense_9 (<span style=\"color: #0087ff; text-decoration-color: #0087ff\">Dense</span>)                 │ (<span style=\"color: #00d7ff; text-decoration-color: #00d7ff\">None</span>, <span style=\"color: #00af00; text-decoration-color: #00af00\">1</span>)              │            <span style=\"color: #00af00; text-decoration-color: #00af00\">33</span> │\n",
       "└─────────────────────────────────┴────────────────────────┴───────────────┘\n",
       "</pre>\n"
      ],
      "text/plain": [
       "┏━━━━━━━━━━━━━━━━━━━━━━━━━━━━━━━━━┳━━━━━━━━━━━━━━━━━━━━━━━━┳━━━━━━━━━━━━━━━┓\n",
       "┃\u001b[1m \u001b[0m\u001b[1mLayer (type)                   \u001b[0m\u001b[1m \u001b[0m┃\u001b[1m \u001b[0m\u001b[1mOutput Shape          \u001b[0m\u001b[1m \u001b[0m┃\u001b[1m \u001b[0m\u001b[1m      Param #\u001b[0m\u001b[1m \u001b[0m┃\n",
       "┡━━━━━━━━━━━━━━━━━━━━━━━━━━━━━━━━━╇━━━━━━━━━━━━━━━━━━━━━━━━╇━━━━━━━━━━━━━━━┩\n",
       "│ conv1d_33 (\u001b[38;5;33mConv1D\u001b[0m)              │ (\u001b[38;5;45mNone\u001b[0m, \u001b[38;5;34m2\u001b[0m, \u001b[38;5;34m32\u001b[0m)          │           \u001b[38;5;34m416\u001b[0m │\n",
       "├─────────────────────────────────┼────────────────────────┼───────────────┤\n",
       "│ conv1d_34 (\u001b[38;5;33mConv1D\u001b[0m)              │ (\u001b[38;5;45mNone\u001b[0m, \u001b[38;5;34m1\u001b[0m, \u001b[38;5;34m32\u001b[0m)          │         \u001b[38;5;34m2,080\u001b[0m │\n",
       "├─────────────────────────────────┼────────────────────────┼───────────────┤\n",
       "│ flatten_9 (\u001b[38;5;33mFlatten\u001b[0m)             │ (\u001b[38;5;45mNone\u001b[0m, \u001b[38;5;34m32\u001b[0m)             │             \u001b[38;5;34m0\u001b[0m │\n",
       "├─────────────────────────────────┼────────────────────────┼───────────────┤\n",
       "│ dense_9 (\u001b[38;5;33mDense\u001b[0m)                 │ (\u001b[38;5;45mNone\u001b[0m, \u001b[38;5;34m1\u001b[0m)              │            \u001b[38;5;34m33\u001b[0m │\n",
       "└─────────────────────────────────┴────────────────────────┴───────────────┘\n"
      ]
     },
     "metadata": {},
     "output_type": "display_data"
    },
    {
     "data": {
      "text/html": [
       "<pre style=\"white-space:pre;overflow-x:auto;line-height:normal;font-family:Menlo,'DejaVu Sans Mono',consolas,'Courier New',monospace\"><span style=\"font-weight: bold\"> Total params: </span><span style=\"color: #00af00; text-decoration-color: #00af00\">7,589</span> (29.65 KB)\n",
       "</pre>\n"
      ],
      "text/plain": [
       "\u001b[1m Total params: \u001b[0m\u001b[38;5;34m7,589\u001b[0m (29.65 KB)\n"
      ]
     },
     "metadata": {},
     "output_type": "display_data"
    },
    {
     "data": {
      "text/html": [
       "<pre style=\"white-space:pre;overflow-x:auto;line-height:normal;font-family:Menlo,'DejaVu Sans Mono',consolas,'Courier New',monospace\"><span style=\"font-weight: bold\"> Trainable params: </span><span style=\"color: #00af00; text-decoration-color: #00af00\">2,529</span> (9.88 KB)\n",
       "</pre>\n"
      ],
      "text/plain": [
       "\u001b[1m Trainable params: \u001b[0m\u001b[38;5;34m2,529\u001b[0m (9.88 KB)\n"
      ]
     },
     "metadata": {},
     "output_type": "display_data"
    },
    {
     "data": {
      "text/html": [
       "<pre style=\"white-space:pre;overflow-x:auto;line-height:normal;font-family:Menlo,'DejaVu Sans Mono',consolas,'Courier New',monospace\"><span style=\"font-weight: bold\"> Non-trainable params: </span><span style=\"color: #00af00; text-decoration-color: #00af00\">0</span> (0.00 B)\n",
       "</pre>\n"
      ],
      "text/plain": [
       "\u001b[1m Non-trainable params: \u001b[0m\u001b[38;5;34m0\u001b[0m (0.00 B)\n"
      ]
     },
     "metadata": {},
     "output_type": "display_data"
    },
    {
     "data": {
      "text/html": [
       "<pre style=\"white-space:pre;overflow-x:auto;line-height:normal;font-family:Menlo,'DejaVu Sans Mono',consolas,'Courier New',monospace\"><span style=\"font-weight: bold\"> Optimizer params: </span><span style=\"color: #00af00; text-decoration-color: #00af00\">5,060</span> (19.77 KB)\n",
       "</pre>\n"
      ],
      "text/plain": [
       "\u001b[1m Optimizer params: \u001b[0m\u001b[38;5;34m5,060\u001b[0m (19.77 KB)\n"
      ]
     },
     "metadata": {},
     "output_type": "display_data"
    }
   ],
   "source": [
    "\n",
    "model = tf.keras.models.load_model(r\"D:\\Projects\\precipitation_AUS\\models\\CNN_RA_(3,3).keras\") \n",
    "\n",
    "model.summary()"
   ]
  },
  {
   "cell_type": "code",
   "execution_count": 26,
   "id": "c5747d3c",
   "metadata": {},
   "outputs": [],
   "source": [
    "import numpy as np"
   ]
  },
  {
   "cell_type": "code",
   "execution_count": 31,
   "id": "958c25b4",
   "metadata": {},
   "outputs": [
    {
     "data": {
      "text/plain": [
       "(2, 6, 32)"
      ]
     },
     "execution_count": 31,
     "metadata": {},
     "output_type": "execute_result"
    }
   ],
   "source": [
    "np.array(model.weights[0]).shape"
   ]
  },
  {
   "cell_type": "code",
   "execution_count": 42,
   "id": "fe8df9f1",
   "metadata": {},
   "outputs": [],
   "source": [
    "a = np.random.random((1, 3 , 6))"
   ]
  },
  {
   "cell_type": "code",
   "execution_count": 43,
   "id": "769dddbb",
   "metadata": {},
   "outputs": [
    {
     "data": {
      "text/plain": [
       "array([[[0.94751309, 0.82940764, 0.23204183, 0.0575364 , 0.84346451,\n",
       "         0.16636742],\n",
       "        [0.15359446, 0.82367061, 0.94277446, 0.22923   , 0.28679829,\n",
       "         0.96406169],\n",
       "        [0.14822782, 0.99638536, 0.51691792, 0.2362563 , 0.29634398,\n",
       "         0.13022798]]])"
      ]
     },
     "execution_count": 43,
     "metadata": {},
     "output_type": "execute_result"
    }
   ],
   "source": [
    "a"
   ]
  },
  {
   "cell_type": "code",
   "execution_count": 44,
   "id": "2958d5c4",
   "metadata": {},
   "outputs": [
    {
     "name": "stdout",
     "output_type": "stream",
     "text": [
      "\u001b[1m1/1\u001b[0m \u001b[32m━━━━━━━━━━━━━━━━━━━━\u001b[0m\u001b[37m\u001b[0m \u001b[1m0s\u001b[0m 150ms/step\n"
     ]
    },
    {
     "data": {
      "text/plain": [
       "array([[3.2927382]], dtype=float32)"
      ]
     },
     "execution_count": 44,
     "metadata": {},
     "output_type": "execute_result"
    }
   ],
   "source": [
    "model.predict(a)"
   ]
  },
  {
   "cell_type": "code",
   "execution_count": null,
   "id": "403398c3",
   "metadata": {},
   "outputs": [],
   "source": [
    "model.b"
   ]
  }
 ],
 "metadata": {
  "kernelspec": {
   "display_name": "Python 3 (ipykernel)",
   "language": "python",
   "name": "python3"
  },
  "language_info": {
   "codemirror_mode": {
    "name": "ipython",
    "version": 3
   },
   "file_extension": ".py",
   "mimetype": "text/x-python",
   "name": "python",
   "nbconvert_exporter": "python",
   "pygments_lexer": "ipython3",
   "version": "3.12.3"
  }
 },
 "nbformat": 4,
 "nbformat_minor": 5
}
