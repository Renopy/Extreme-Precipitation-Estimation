{
 "cells": [
  {
   "cell_type": "code",
   "execution_count": 18,
   "metadata": {},
   "outputs": [],
   "source": [
    "import os\n",
    "import webbrowser\n",
    "from datetime import datetime as Date \n",
    "from datetime import timedelta as Delta\n",
    "import pandas as pd \n"
   ]
  },
  {
   "cell_type": "code",
   "execution_count": 19,
   "metadata": {},
   "outputs": [
    {
     "name": "stdout",
     "output_type": "stream",
     "text": [
      "Done\n"
     ]
    }
   ],
   "source": [
    "# Check the dowloaded file using urls \n",
    "\n",
    "fp = r'd:\\DatasetAUS\\IMERG_DL6_links.xlsx'  # excel conaining urls\n",
    "\n",
    "Folder = r'd:/DatasetAUS/IMERG-LD6/'  # folder where downloaded files were saved in\n",
    "\n",
    "of = r'd:\\DatasetAUS\\IMERG_DL6_links_new.txt' # output text file which have not been downloaded\n",
    "\n",
    "excel = pd.read_excel(fp) \n",
    "\n",
    "names = []\n",
    "for i in range(len(excel)) : \n",
    "    url = excel['Link'][i]\n",
    "    file = url[76:135]\n",
    "    exist = os.path.exists(Folder + file)\n",
    "    if exist == False  :\n",
    "        names.append(url)\n",
    "\n",
    "# open file in write mode\n",
    "with open(of, 'w') as fp:\n",
    "    for item in names:\n",
    "        # write each item on a new line\n",
    "        fp.write(\"%s\\n\" % item)\n",
    "    print('Done')"
   ]
  }
 ],
 "metadata": {
  "kernelspec": {
   "display_name": "Reza",
   "language": "python",
   "name": "python3"
  },
  "language_info": {
   "codemirror_mode": {
    "name": "ipython",
    "version": 3
   },
   "file_extension": ".py",
   "mimetype": "text/x-python",
   "name": "python",
   "nbconvert_exporter": "python",
   "pygments_lexer": "ipython3",
   "version": "3.10.13"
  }
 },
 "nbformat": 4,
 "nbformat_minor": 2
}
