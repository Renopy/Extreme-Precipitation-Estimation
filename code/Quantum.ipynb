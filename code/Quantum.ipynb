{
 "cells": [
  {
   "cell_type": "code",
   "execution_count": 1,
   "metadata": {},
   "outputs": [],
   "source": [
    "from qiskit import QuantumCircuit\n",
    "from qiskit.quantum_info import SparsePauliOp\n",
    "from qiskit.transpiler.preset_passmanagers import generate_preset_pass_manager\n",
    "from qiskit_ibm_runtime import EstimatorV2 as Estimator"
   ]
  },
  {
   "cell_type": "code",
   "execution_count": 2,
   "metadata": {},
   "outputs": [
    {
     "data": {
      "image/png": "[encoded data removed]",
      "text/plain": [
       "<Figure size 287.294x200.667 with 1 Axes>"
      ]
     },
     "execution_count": 2,
     "metadata": {},
     "output_type": "execute_result"
    }
   ],
   "source": [
    "# Create a new circuit with two qubits\n",
    "qc = QuantumCircuit(2)\n",
    " \n",
    "# Add a Hadamard gate to qubit 0\n",
    "qc.h(0)\n",
    " \n",
    "# Perform a controlled-X gate on qubit 1, controlled by qubit 0\n",
    "qc.cx(0, 1)\n",
    " \n",
    "# Return a drawing of the circuit using MatPlotLib (\"mpl\"). This is the\n",
    "# last line of the cell, so the drawing appears in the cell output.\n",
    "# Remove the \"mpl\" argument to get a text drawing.\n",
    "\n",
    "qc.draw(\"mpl\")"
   ]
  },
  {
   "cell_type": "code",
   "execution_count": 9,
   "metadata": {},
   "outputs": [],
   "source": [
    "from qiskit_ibm_runtime import QiskitRuntimeService\n",
    " \n",
    "service = QiskitRuntimeService(channel=\"ibm_quantum\", token=\"233e6bd6c0e52e1a925af51fa200686316f098dcd5f47950e5c7cfe31ae49ff3035b55dee8d22a42ab603e28756c10d0cf91d4563984dcb3cac14aefe6134b52\")\n",
    " "
   ]
  },
  {
   "cell_type": "code",
   "execution_count": 12,
   "metadata": {},
   "outputs": [],
   "source": [
    "from qiskit_ibm_runtime import QiskitRuntimeService\n",
    " \n",
    "# Save an IBM Quantum account and set it as your default account.\n",
    "QiskitRuntimeService.save_account(\n",
    "    channel=\"ibm_quantum\",\n",
    "    token=\"233e6bd6c0e52e1a925af51fa200686316f098dcd5f47950e5c7cfe31ae49ff3035b55dee8d22a42ab603e28756c10d0cf91d4563984dcb3cac14aefe6134b52\",\n",
    "    set_as_default=True,\n",
    "    # Use `overwrite=True` if you're updating your token.\n",
    "    overwrite=True,\n",
    ")\n",
    " \n",
    "# Load saved credentials\n",
    "service = QiskitRuntimeService()"
   ]
  },
  {
   "cell_type": "markdown",
   "metadata": {},
   "source": [
    "### Test your setup. Run a simple circuit using Sampler to ensure that your environment is set up properly:"
   ]
  },
  {
   "cell_type": "code",
   "execution_count": 13,
   "metadata": {},
   "outputs": [
    {
     "name": "stdout",
     "output_type": "stream",
     "text": [
      "job id: ctrtwbh907y0008ws72g\n",
      "PrimitiveResult([PubResult(data=DataBin(meas=BitArray(<shape=(), num_shots=4096, num_bits=2>)), metadata={'circuit_metadata': {}})], metadata={'version': 2})\n"
     ]
    }
   ],
   "source": [
    "from qiskit import QuantumCircuit\n",
    "from qiskit_ibm_runtime import QiskitRuntimeService, SamplerV2 as Sampler\n",
    " \n",
    "# Create empty circuit\n",
    "example_circuit = QuantumCircuit(2)\n",
    "example_circuit.measure_all()\n",
    " \n",
    "# You'll need to specify the credentials when initializing QiskitRuntimeService, if they were not previously saved.\n",
    "service = QiskitRuntimeService()\n",
    "backend = service.least_busy(operational=True, simulator=False)\n",
    "\n",
    "sampler = Sampler(backend)\n",
    "job = sampler.run([example_circuit])\n",
    "\n",
    "print(f\"job id: {job.job_id()}\")\n",
    "result = job.result()\n",
    "print(result)\n",
    "\n"
   ]
  },
  {
   "cell_type": "code",
   "execution_count": 18,
   "metadata": {},
   "outputs": [
    {
     "ename": "ApiException",
     "evalue": "Error: Provided API key could not be found., Status code: 400",
     "output_type": "error",
     "traceback": [
      "\u001b[1;31m---------------------------------------------------------------------------\u001b[0m",
      "\u001b[1;31mApiException\u001b[0m                              Traceback (most recent call last)",
      "Cell \u001b[1;32mIn[18], line 3\u001b[0m\n\u001b[0;32m      1\u001b[0m \u001b[38;5;28;01mfrom\u001b[39;00m \u001b[38;5;21;01mqiskit_ibm_runtime\u001b[39;00m \u001b[38;5;28;01mimport\u001b[39;00m QiskitRuntimeService\n\u001b[1;32m----> 3\u001b[0m service \u001b[38;5;241m=\u001b[39m \u001b[43mQiskitRuntimeService\u001b[49m\u001b[43m(\u001b[49m\u001b[43mchannel\u001b[49m\u001b[38;5;241;43m=\u001b[39;49m\u001b[38;5;124;43m\"\u001b[39;49m\u001b[38;5;124;43mibm_cloud\u001b[39;49m\u001b[38;5;124;43m\"\u001b[39;49m\u001b[43m,\u001b[49m\u001b[43m \u001b[49m\u001b[43mtoken\u001b[49m\u001b[38;5;241;43m=\u001b[39;49m\u001b[38;5;124;43m\"\u001b[39;49m\u001b[38;5;124;43m<IBM Cloud API key>\u001b[39;49m\u001b[38;5;124;43m\"\u001b[39;49m\u001b[43m,\u001b[49m\u001b[43m \u001b[49m\u001b[43minstance\u001b[49m\u001b[38;5;241;43m=\u001b[39;49m\u001b[38;5;124;43m\"\u001b[39;49m\u001b[38;5;124;43m<IBM Cloud CRN>\u001b[39;49m\u001b[38;5;124;43m\"\u001b[39;49m\u001b[43m)\u001b[49m\n",
      "File \u001b[1;32mc:\\Users\\S4055367\\AppData\\Local\\anaconda3\\envs\\ML\\Lib\\site-packages\\qiskit_ibm_runtime\\qiskit_runtime_service.py:129\u001b[0m, in \u001b[0;36mQiskitRuntimeService.__init__\u001b[1;34m(self, channel, token, url, filename, name, instance, proxies, verify, channel_strategy, private_endpoint)\u001b[0m\n\u001b[0;32m     82\u001b[0m \u001b[38;5;250m\u001b[39m\u001b[38;5;124;03m\"\"\"QiskitRuntimeService constructor\u001b[39;00m\n\u001b[0;32m     83\u001b[0m \n\u001b[0;32m     84\u001b[0m \u001b[38;5;124;03mAn account is selected in the following order:\u001b[39;00m\n\u001b[1;32m   (...)\u001b[0m\n\u001b[0;32m    125\u001b[0m \u001b[38;5;124;03m    IBMInputValueError: If an input is invalid.\u001b[39;00m\n\u001b[0;32m    126\u001b[0m \u001b[38;5;124;03m\"\"\"\u001b[39;00m\n\u001b[0;32m    127\u001b[0m \u001b[38;5;28msuper\u001b[39m()\u001b[38;5;241m.\u001b[39m\u001b[38;5;21m__init__\u001b[39m()\n\u001b[1;32m--> 129\u001b[0m \u001b[38;5;28mself\u001b[39m\u001b[38;5;241m.\u001b[39m_account \u001b[38;5;241m=\u001b[39m \u001b[38;5;28;43mself\u001b[39;49m\u001b[38;5;241;43m.\u001b[39;49m\u001b[43m_discover_account\u001b[49m\u001b[43m(\u001b[49m\n\u001b[0;32m    130\u001b[0m \u001b[43m    \u001b[49m\u001b[43mtoken\u001b[49m\u001b[38;5;241;43m=\u001b[39;49m\u001b[43mtoken\u001b[49m\u001b[43m,\u001b[49m\n\u001b[0;32m    131\u001b[0m \u001b[43m    \u001b[49m\u001b[43murl\u001b[49m\u001b[38;5;241;43m=\u001b[39;49m\u001b[43murl\u001b[49m\u001b[43m,\u001b[49m\n\u001b[0;32m    132\u001b[0m \u001b[43m    \u001b[49m\u001b[43minstance\u001b[49m\u001b[38;5;241;43m=\u001b[39;49m\u001b[43minstance\u001b[49m\u001b[43m,\u001b[49m\n\u001b[0;32m    133\u001b[0m \u001b[43m    \u001b[49m\u001b[43mchannel\u001b[49m\u001b[38;5;241;43m=\u001b[39;49m\u001b[43mchannel\u001b[49m\u001b[43m,\u001b[49m\n\u001b[0;32m    134\u001b[0m \u001b[43m    \u001b[49m\u001b[43mfilename\u001b[49m\u001b[38;5;241;43m=\u001b[39;49m\u001b[43mfilename\u001b[49m\u001b[43m,\u001b[49m\n\u001b[0;32m    135\u001b[0m \u001b[43m    \u001b[49m\u001b[43mname\u001b[49m\u001b[38;5;241;43m=\u001b[39;49m\u001b[43mname\u001b[49m\u001b[43m,\u001b[49m\n\u001b[0;32m    136\u001b[0m \u001b[43m    \u001b[49m\u001b[43mproxies\u001b[49m\u001b[38;5;241;43m=\u001b[39;49m\u001b[43mProxyConfiguration\u001b[49m\u001b[43m(\u001b[49m\u001b[38;5;241;43m*\u001b[39;49m\u001b[38;5;241;43m*\u001b[39;49m\u001b[43mproxies\u001b[49m\u001b[43m)\u001b[49m\u001b[43m \u001b[49m\u001b[38;5;28;43;01mif\u001b[39;49;00m\u001b[43m \u001b[49m\u001b[43mproxies\u001b[49m\u001b[43m \u001b[49m\u001b[38;5;28;43;01melse\u001b[39;49;00m\u001b[43m \u001b[49m\u001b[38;5;28;43;01mNone\u001b[39;49;00m\u001b[43m,\u001b[49m\n\u001b[0;32m    137\u001b[0m \u001b[43m    \u001b[49m\u001b[43mverify\u001b[49m\u001b[38;5;241;43m=\u001b[39;49m\u001b[43mverify\u001b[49m\u001b[43m,\u001b[49m\n\u001b[0;32m    138\u001b[0m \u001b[43m    \u001b[49m\u001b[43mchannel_strategy\u001b[49m\u001b[38;5;241;43m=\u001b[39;49m\u001b[43mchannel_strategy\u001b[49m\u001b[43m,\u001b[49m\n\u001b[0;32m    139\u001b[0m \u001b[43m\u001b[49m\u001b[43m)\u001b[49m\n\u001b[0;32m    141\u001b[0m \u001b[38;5;28;01mif\u001b[39;00m private_endpoint \u001b[38;5;129;01mis\u001b[39;00m \u001b[38;5;129;01mnot\u001b[39;00m \u001b[38;5;28;01mNone\u001b[39;00m:\n\u001b[0;32m    142\u001b[0m     \u001b[38;5;28mself\u001b[39m\u001b[38;5;241m.\u001b[39m_account\u001b[38;5;241m.\u001b[39mprivate_endpoint \u001b[38;5;241m=\u001b[39m private_endpoint\n",
      "File \u001b[1;32mc:\\Users\\S4055367\\AppData\\Local\\anaconda3\\envs\\ML\\Lib\\site-packages\\qiskit_ibm_runtime\\qiskit_runtime_service.py:260\u001b[0m, in \u001b[0;36mQiskitRuntimeService._discover_account\u001b[1;34m(self, token, url, instance, channel, filename, name, proxies, verify, channel_strategy)\u001b[0m\n\u001b[0;32m    257\u001b[0m     account\u001b[38;5;241m.\u001b[39mverify \u001b[38;5;241m=\u001b[39m verify\n\u001b[0;32m    259\u001b[0m \u001b[38;5;66;03m# resolve CRN if needed\u001b[39;00m\n\u001b[1;32m--> 260\u001b[0m \u001b[38;5;28;43mself\u001b[39;49m\u001b[38;5;241;43m.\u001b[39;49m\u001b[43m_resolve_crn\u001b[49m\u001b[43m(\u001b[49m\u001b[43maccount\u001b[49m\u001b[43m)\u001b[49m\n\u001b[0;32m    262\u001b[0m \u001b[38;5;66;03m# ensure account is valid, fail early if not\u001b[39;00m\n\u001b[0;32m    263\u001b[0m account\u001b[38;5;241m.\u001b[39mvalidate()\n",
      "File \u001b[1;32mc:\\Users\\S4055367\\AppData\\Local\\anaconda3\\envs\\ML\\Lib\\site-packages\\qiskit_ibm_runtime\\qiskit_runtime_service.py:298\u001b[0m, in \u001b[0;36mQiskitRuntimeService._resolve_crn\u001b[1;34m(self, account)\u001b[0m\n\u001b[0;32m    297\u001b[0m \u001b[38;5;28;01mdef\u001b[39;00m \u001b[38;5;21m_resolve_crn\u001b[39m(\u001b[38;5;28mself\u001b[39m, account: Account) \u001b[38;5;241m-\u001b[39m\u001b[38;5;241m>\u001b[39m \u001b[38;5;28;01mNone\u001b[39;00m:\n\u001b[1;32m--> 298\u001b[0m     \u001b[43maccount\u001b[49m\u001b[38;5;241;43m.\u001b[39;49m\u001b[43mresolve_crn\u001b[49m\u001b[43m(\u001b[49m\u001b[43m)\u001b[49m\n",
      "File \u001b[1;32mc:\\Users\\S4055367\\AppData\\Local\\anaconda3\\envs\\ML\\Lib\\site-packages\\qiskit_ibm_runtime\\accounts\\account.py:308\u001b[0m, in \u001b[0;36mCloudAccount.resolve_crn\u001b[1;34m(self)\u001b[0m\n\u001b[0;32m    299\u001b[0m \u001b[38;5;28;01mdef\u001b[39;00m \u001b[38;5;21mresolve_crn\u001b[39m(\u001b[38;5;28mself\u001b[39m) \u001b[38;5;241m-\u001b[39m\u001b[38;5;241m>\u001b[39m \u001b[38;5;28;01mNone\u001b[39;00m:\n\u001b[0;32m    300\u001b[0m \u001b[38;5;250m    \u001b[39m\u001b[38;5;124;03m\"\"\"Resolves the corresponding unique Cloud Resource Name (CRN) for the given non-unique service\u001b[39;00m\n\u001b[0;32m    301\u001b[0m \u001b[38;5;124;03m    instance name and updates the ``instance`` attribute accordingly.\u001b[39;00m\n\u001b[0;32m    302\u001b[0m \n\u001b[1;32m   (...)\u001b[0m\n\u001b[0;32m    306\u001b[0m \u001b[38;5;124;03m        CloudResourceNameResolutionError: if CRN value cannot be resolved.\u001b[39;00m\n\u001b[0;32m    307\u001b[0m \u001b[38;5;124;03m    \"\"\"\u001b[39;00m\n\u001b[1;32m--> 308\u001b[0m     crn \u001b[38;5;241m=\u001b[39m \u001b[43mresolve_crn\u001b[49m\u001b[43m(\u001b[49m\n\u001b[0;32m    309\u001b[0m \u001b[43m        \u001b[49m\u001b[43mchannel\u001b[49m\u001b[38;5;241;43m=\u001b[39;49m\u001b[38;5;124;43m\"\u001b[39;49m\u001b[38;5;124;43mibm_cloud\u001b[39;49m\u001b[38;5;124;43m\"\u001b[39;49m\u001b[43m,\u001b[49m\n\u001b[0;32m    310\u001b[0m \u001b[43m        \u001b[49m\u001b[43murl\u001b[49m\u001b[38;5;241;43m=\u001b[39;49m\u001b[38;5;28;43mself\u001b[39;49m\u001b[38;5;241;43m.\u001b[39;49m\u001b[43murl\u001b[49m\u001b[43m,\u001b[49m\n\u001b[0;32m    311\u001b[0m \u001b[43m        \u001b[49m\u001b[43mtoken\u001b[49m\u001b[38;5;241;43m=\u001b[39;49m\u001b[38;5;28;43mself\u001b[39;49m\u001b[38;5;241;43m.\u001b[39;49m\u001b[43mtoken\u001b[49m\u001b[43m,\u001b[49m\n\u001b[0;32m    312\u001b[0m \u001b[43m        \u001b[49m\u001b[43minstance\u001b[49m\u001b[38;5;241;43m=\u001b[39;49m\u001b[38;5;28;43mself\u001b[39;49m\u001b[38;5;241;43m.\u001b[39;49m\u001b[43minstance\u001b[49m\u001b[43m,\u001b[49m\n\u001b[0;32m    313\u001b[0m \u001b[43m    \u001b[49m\u001b[43m)\u001b[49m\n\u001b[0;32m    314\u001b[0m     \u001b[38;5;28;01mif\u001b[39;00m \u001b[38;5;28mlen\u001b[39m(crn) \u001b[38;5;241m==\u001b[39m \u001b[38;5;241m0\u001b[39m:\n\u001b[0;32m    315\u001b[0m         \u001b[38;5;28;01mraise\u001b[39;00m CloudResourceNameResolutionError(\n\u001b[0;32m    316\u001b[0m             \u001b[38;5;124mf\u001b[39m\u001b[38;5;124m\"\u001b[39m\u001b[38;5;124mFailed to resolve CRN value for the provided service name \u001b[39m\u001b[38;5;132;01m{\u001b[39;00m\u001b[38;5;28mself\u001b[39m\u001b[38;5;241m.\u001b[39minstance\u001b[38;5;132;01m}\u001b[39;00m\u001b[38;5;124m.\u001b[39m\u001b[38;5;124m\"\u001b[39m\n\u001b[0;32m    317\u001b[0m         )\n",
      "File \u001b[1;32mc:\\Users\\S4055367\\AppData\\Local\\anaconda3\\envs\\ML\\Lib\\site-packages\\qiskit_ibm_runtime\\utils\\utils.py:139\u001b[0m, in \u001b[0;36mresolve_crn\u001b[1;34m(channel, url, instance, token)\u001b[0m\n\u001b[0;32m    137\u001b[0m client\u001b[38;5;241m.\u001b[39mset_service_url(get_resource_controller_api_url(url))\n\u001b[0;32m    138\u001b[0m client\u001b[38;5;241m.\u001b[39mset_http_client(session)\n\u001b[1;32m--> 139\u001b[0m list_response \u001b[38;5;241m=\u001b[39m \u001b[43mclient\u001b[49m\u001b[38;5;241;43m.\u001b[39;49m\u001b[43mlist_resource_instances\u001b[49m\u001b[43m(\u001b[49m\u001b[43mname\u001b[49m\u001b[38;5;241;43m=\u001b[39;49m\u001b[43minstance\u001b[49m\u001b[43m)\u001b[49m\n\u001b[0;32m    140\u001b[0m result \u001b[38;5;241m=\u001b[39m list_response\u001b[38;5;241m.\u001b[39mget_result()\n\u001b[0;32m    141\u001b[0m row_count \u001b[38;5;241m=\u001b[39m result[\u001b[38;5;124m\"\u001b[39m\u001b[38;5;124mrows_count\u001b[39m\u001b[38;5;124m\"\u001b[39m]\n",
      "File \u001b[1;32mc:\\Users\\S4055367\\AppData\\Local\\anaconda3\\envs\\ML\\Lib\\site-packages\\ibm_platform_services\\resource_controller_v2.py:161\u001b[0m, in \u001b[0;36mResourceControllerV2.list_resource_instances\u001b[1;34m(self, guid, name, resource_group_id, resource_id, resource_plan_id, type, sub_type, limit, start, state, updated_from, updated_to, **kwargs)\u001b[0m\n\u001b[0;32m    158\u001b[0m headers[\u001b[38;5;124m'\u001b[39m\u001b[38;5;124mAccept\u001b[39m\u001b[38;5;124m'\u001b[39m] \u001b[38;5;241m=\u001b[39m \u001b[38;5;124m'\u001b[39m\u001b[38;5;124mapplication/json\u001b[39m\u001b[38;5;124m'\u001b[39m\n\u001b[0;32m    160\u001b[0m url \u001b[38;5;241m=\u001b[39m \u001b[38;5;124m'\u001b[39m\u001b[38;5;124m/v2/resource_instances\u001b[39m\u001b[38;5;124m'\u001b[39m\n\u001b[1;32m--> 161\u001b[0m request \u001b[38;5;241m=\u001b[39m \u001b[38;5;28;43mself\u001b[39;49m\u001b[38;5;241;43m.\u001b[39;49m\u001b[43mprepare_request\u001b[49m\u001b[43m(\u001b[49m\n\u001b[0;32m    162\u001b[0m \u001b[43m    \u001b[49m\u001b[43mmethod\u001b[49m\u001b[38;5;241;43m=\u001b[39;49m\u001b[38;5;124;43m'\u001b[39;49m\u001b[38;5;124;43mGET\u001b[39;49m\u001b[38;5;124;43m'\u001b[39;49m\u001b[43m,\u001b[49m\n\u001b[0;32m    163\u001b[0m \u001b[43m    \u001b[49m\u001b[43murl\u001b[49m\u001b[38;5;241;43m=\u001b[39;49m\u001b[43murl\u001b[49m\u001b[43m,\u001b[49m\n\u001b[0;32m    164\u001b[0m \u001b[43m    \u001b[49m\u001b[43mheaders\u001b[49m\u001b[38;5;241;43m=\u001b[39;49m\u001b[43mheaders\u001b[49m\u001b[43m,\u001b[49m\n\u001b[0;32m    165\u001b[0m \u001b[43m    \u001b[49m\u001b[43mparams\u001b[49m\u001b[38;5;241;43m=\u001b[39;49m\u001b[43mparams\u001b[49m\u001b[43m,\u001b[49m\n\u001b[0;32m    166\u001b[0m \u001b[43m\u001b[49m\u001b[43m)\u001b[49m\n\u001b[0;32m    168\u001b[0m response \u001b[38;5;241m=\u001b[39m \u001b[38;5;28mself\u001b[39m\u001b[38;5;241m.\u001b[39msend(request, \u001b[38;5;241m*\u001b[39m\u001b[38;5;241m*\u001b[39mkwargs)\n\u001b[0;32m    169\u001b[0m \u001b[38;5;28;01mreturn\u001b[39;00m response\n",
      "File \u001b[1;32mc:\\Users\\S4055367\\AppData\\Local\\anaconda3\\envs\\ML\\Lib\\site-packages\\ibm_cloud_sdk_core\\base_service.py:424\u001b[0m, in \u001b[0;36mBaseService.prepare_request\u001b[1;34m(self, method, url, headers, params, data, files, **kwargs)\u001b[0m\n\u001b[0;32m    421\u001b[0m     data \u001b[38;5;241m=\u001b[39m json_import\u001b[38;5;241m.\u001b[39mdumps(data)\u001b[38;5;241m.\u001b[39mencode(\u001b[38;5;124m'\u001b[39m\u001b[38;5;124mutf-8\u001b[39m\u001b[38;5;124m'\u001b[39m)\n\u001b[0;32m    422\u001b[0m request[\u001b[38;5;124m'\u001b[39m\u001b[38;5;124mdata\u001b[39m\u001b[38;5;124m'\u001b[39m] \u001b[38;5;241m=\u001b[39m data\n\u001b[1;32m--> 424\u001b[0m \u001b[38;5;28;43mself\u001b[39;49m\u001b[38;5;241;43m.\u001b[39;49m\u001b[43mauthenticator\u001b[49m\u001b[38;5;241;43m.\u001b[39;49m\u001b[43mauthenticate\u001b[49m\u001b[43m(\u001b[49m\u001b[43mrequest\u001b[49m\u001b[43m)\u001b[49m\n\u001b[0;32m    426\u001b[0m \u001b[38;5;66;03m# Compress the request body if applicable\u001b[39;00m\n\u001b[0;32m    427\u001b[0m \u001b[38;5;28;01mif\u001b[39;00m \u001b[38;5;28mself\u001b[39m\u001b[38;5;241m.\u001b[39mget_enable_gzip_compression() \u001b[38;5;129;01mand\u001b[39;00m \u001b[38;5;124m'\u001b[39m\u001b[38;5;124mcontent-encoding\u001b[39m\u001b[38;5;124m'\u001b[39m \u001b[38;5;129;01mnot\u001b[39;00m \u001b[38;5;129;01min\u001b[39;00m headers \u001b[38;5;129;01mand\u001b[39;00m request[\u001b[38;5;124m'\u001b[39m\u001b[38;5;124mdata\u001b[39m\u001b[38;5;124m'\u001b[39m] \u001b[38;5;129;01mis\u001b[39;00m \u001b[38;5;129;01mnot\u001b[39;00m \u001b[38;5;28;01mNone\u001b[39;00m:\n",
      "File \u001b[1;32mc:\\Users\\S4055367\\AppData\\Local\\anaconda3\\envs\\ML\\Lib\\site-packages\\ibm_cloud_sdk_core\\authenticators\\iam_request_based_authenticator.py:61\u001b[0m, in \u001b[0;36mIAMRequestBasedAuthenticator.authenticate\u001b[1;34m(self, req)\u001b[0m\n\u001b[0;32m     50\u001b[0m \u001b[38;5;250m\u001b[39m\u001b[38;5;124;03m\"\"\"Adds IAM authentication information to the request.\u001b[39;00m\n\u001b[0;32m     51\u001b[0m \n\u001b[0;32m     52\u001b[0m \u001b[38;5;124;03mThe IAM bearer token will be added to the request's headers in the form:\u001b[39;00m\n\u001b[1;32m   (...)\u001b[0m\n\u001b[0;32m     58\u001b[0m \u001b[38;5;124;03m    called headers.\u001b[39;00m\n\u001b[0;32m     59\u001b[0m \u001b[38;5;124;03m\"\"\"\u001b[39;00m\n\u001b[0;32m     60\u001b[0m headers \u001b[38;5;241m=\u001b[39m req\u001b[38;5;241m.\u001b[39mget(\u001b[38;5;124m'\u001b[39m\u001b[38;5;124mheaders\u001b[39m\u001b[38;5;124m'\u001b[39m)\n\u001b[1;32m---> 61\u001b[0m bearer_token \u001b[38;5;241m=\u001b[39m \u001b[38;5;28;43mself\u001b[39;49m\u001b[38;5;241;43m.\u001b[39;49m\u001b[43mtoken_manager\u001b[49m\u001b[38;5;241;43m.\u001b[39;49m\u001b[43mget_token\u001b[49m\u001b[43m(\u001b[49m\u001b[43m)\u001b[49m\n\u001b[0;32m     62\u001b[0m headers[\u001b[38;5;124m'\u001b[39m\u001b[38;5;124mAuthorization\u001b[39m\u001b[38;5;124m'\u001b[39m] \u001b[38;5;241m=\u001b[39m \u001b[38;5;124m'\u001b[39m\u001b[38;5;124mBearer \u001b[39m\u001b[38;5;132;01m{0}\u001b[39;00m\u001b[38;5;124m'\u001b[39m\u001b[38;5;241m.\u001b[39mformat(bearer_token)\n",
      "File \u001b[1;32mc:\\Users\\S4055367\\AppData\\Local\\anaconda3\\envs\\ML\\Lib\\site-packages\\ibm_cloud_sdk_core\\token_managers\\token_manager.py:78\u001b[0m, in \u001b[0;36mTokenManager.get_token\u001b[1;34m(self)\u001b[0m\n\u001b[0;32m     67\u001b[0m \u001b[38;5;250m\u001b[39m\u001b[38;5;124;03m\"\"\"Get a token to be used for authentication.\u001b[39;00m\n\u001b[0;32m     68\u001b[0m \n\u001b[0;32m     69\u001b[0m \u001b[38;5;124;03mThe source of the token is determined by the following logic:\u001b[39;00m\n\u001b[1;32m   (...)\u001b[0m\n\u001b[0;32m     75\u001b[0m \u001b[38;5;124;03m    str: A valid access token\u001b[39;00m\n\u001b[0;32m     76\u001b[0m \u001b[38;5;124;03m\"\"\"\u001b[39;00m\n\u001b[0;32m     77\u001b[0m \u001b[38;5;28;01mif\u001b[39;00m \u001b[38;5;28mself\u001b[39m\u001b[38;5;241m.\u001b[39m_is_token_expired():\n\u001b[1;32m---> 78\u001b[0m     \u001b[38;5;28;43mself\u001b[39;49m\u001b[38;5;241;43m.\u001b[39;49m\u001b[43mpaced_request_token\u001b[49m\u001b[43m(\u001b[49m\u001b[43m)\u001b[49m\n\u001b[0;32m     80\u001b[0m \u001b[38;5;28;01mif\u001b[39;00m \u001b[38;5;28mself\u001b[39m\u001b[38;5;241m.\u001b[39m_token_needs_refresh():\n\u001b[0;32m     81\u001b[0m     token_response \u001b[38;5;241m=\u001b[39m \u001b[38;5;28mself\u001b[39m\u001b[38;5;241m.\u001b[39mrequest_token()\n",
      "File \u001b[1;32mc:\\Users\\S4055367\\AppData\\Local\\anaconda3\\envs\\ML\\Lib\\site-packages\\ibm_cloud_sdk_core\\token_managers\\token_manager.py:134\u001b[0m, in \u001b[0;36mTokenManager.paced_request_token\u001b[1;34m(self)\u001b[0m\n\u001b[0;32m    131\u001b[0m         \u001b[38;5;28mself\u001b[39m\u001b[38;5;241m.\u001b[39mrequest_time \u001b[38;5;241m=\u001b[39m current_time\n\u001b[0;32m    133\u001b[0m \u001b[38;5;28;01mif\u001b[39;00m \u001b[38;5;129;01mnot\u001b[39;00m request_active:\n\u001b[1;32m--> 134\u001b[0m     token_response \u001b[38;5;241m=\u001b[39m \u001b[38;5;28;43mself\u001b[39;49m\u001b[38;5;241;43m.\u001b[39;49m\u001b[43mrequest_token\u001b[49m\u001b[43m(\u001b[49m\u001b[43m)\u001b[49m\n\u001b[0;32m    135\u001b[0m     \u001b[38;5;28mself\u001b[39m\u001b[38;5;241m.\u001b[39m_save_token_info(token_response)\n\u001b[0;32m    136\u001b[0m     \u001b[38;5;28mself\u001b[39m\u001b[38;5;241m.\u001b[39mrequest_time \u001b[38;5;241m=\u001b[39m \u001b[38;5;241m0\u001b[39m\n",
      "File \u001b[1;32mc:\\Users\\S4055367\\AppData\\Local\\anaconda3\\envs\\ML\\Lib\\site-packages\\ibm_cloud_sdk_core\\token_managers\\iam_request_based_token_manager.py:121\u001b[0m, in \u001b[0;36mIAMRequestBasedTokenManager.request_token\u001b[1;34m(self)\u001b[0m\n\u001b[0;32m    118\u001b[0m \u001b[38;5;28;01mif\u001b[39;00m \u001b[38;5;28mself\u001b[39m\u001b[38;5;241m.\u001b[39mclient_id \u001b[38;5;129;01mand\u001b[39;00m \u001b[38;5;28mself\u001b[39m\u001b[38;5;241m.\u001b[39mclient_secret:\n\u001b[0;32m    119\u001b[0m     auth_tuple \u001b[38;5;241m=\u001b[39m (\u001b[38;5;28mself\u001b[39m\u001b[38;5;241m.\u001b[39mclient_id, \u001b[38;5;28mself\u001b[39m\u001b[38;5;241m.\u001b[39mclient_secret)\n\u001b[1;32m--> 121\u001b[0m response \u001b[38;5;241m=\u001b[39m \u001b[38;5;28;43mself\u001b[39;49m\u001b[38;5;241;43m.\u001b[39;49m\u001b[43m_request\u001b[49m\u001b[43m(\u001b[49m\n\u001b[0;32m    122\u001b[0m \u001b[43m    \u001b[49m\u001b[43mmethod\u001b[49m\u001b[38;5;241;43m=\u001b[39;49m\u001b[38;5;124;43m'\u001b[39;49m\u001b[38;5;124;43mPOST\u001b[39;49m\u001b[38;5;124;43m'\u001b[39;49m\u001b[43m,\u001b[49m\n\u001b[0;32m    123\u001b[0m \u001b[43m    \u001b[49m\u001b[43murl\u001b[49m\u001b[38;5;241;43m=\u001b[39;49m\u001b[43m(\u001b[49m\u001b[38;5;28;43mself\u001b[39;49m\u001b[38;5;241;43m.\u001b[39;49m\u001b[43murl\u001b[49m\u001b[43m \u001b[49m\u001b[38;5;241;43m+\u001b[39;49m\u001b[43m \u001b[49m\u001b[38;5;28;43mself\u001b[39;49m\u001b[38;5;241;43m.\u001b[39;49m\u001b[43mOPERATION_PATH\u001b[49m\u001b[43m)\u001b[49m\u001b[43m \u001b[49m\u001b[38;5;28;43;01mif\u001b[39;49;00m\u001b[43m \u001b[49m\u001b[38;5;28;43mself\u001b[39;49m\u001b[38;5;241;43m.\u001b[39;49m\u001b[43murl\u001b[49m\u001b[43m \u001b[49m\u001b[38;5;28;43;01melse\u001b[39;49;00m\u001b[43m \u001b[49m\u001b[38;5;28;43mself\u001b[39;49m\u001b[38;5;241;43m.\u001b[39;49m\u001b[43murl\u001b[49m\u001b[43m,\u001b[49m\n\u001b[0;32m    124\u001b[0m \u001b[43m    \u001b[49m\u001b[43mheaders\u001b[49m\u001b[38;5;241;43m=\u001b[39;49m\u001b[43mrequest_headers\u001b[49m\u001b[43m,\u001b[49m\n\u001b[0;32m    125\u001b[0m \u001b[43m    \u001b[49m\u001b[43mdata\u001b[49m\u001b[38;5;241;43m=\u001b[39;49m\u001b[43mdata\u001b[49m\u001b[43m,\u001b[49m\n\u001b[0;32m    126\u001b[0m \u001b[43m    \u001b[49m\u001b[43mauth_tuple\u001b[49m\u001b[38;5;241;43m=\u001b[39;49m\u001b[43mauth_tuple\u001b[49m\u001b[43m,\u001b[49m\n\u001b[0;32m    127\u001b[0m \u001b[43m    \u001b[49m\u001b[43mproxies\u001b[49m\u001b[38;5;241;43m=\u001b[39;49m\u001b[38;5;28;43mself\u001b[39;49m\u001b[38;5;241;43m.\u001b[39;49m\u001b[43mproxies\u001b[49m\u001b[43m,\u001b[49m\n\u001b[0;32m    128\u001b[0m \u001b[43m\u001b[49m\u001b[43m)\u001b[49m\n\u001b[0;32m    129\u001b[0m \u001b[38;5;28;01mreturn\u001b[39;00m response\n",
      "File \u001b[1;32mc:\\Users\\S4055367\\AppData\\Local\\anaconda3\\envs\\ML\\Lib\\site-packages\\ibm_cloud_sdk_core\\token_managers\\jwt_token_manager.py:91\u001b[0m, in \u001b[0;36mJWTTokenManager._request\u001b[1;34m(self, method, url, headers, params, data, auth_tuple, **kwargs)\u001b[0m\n\u001b[0;32m     88\u001b[0m \u001b[38;5;28;01mif\u001b[39;00m \u001b[38;5;241m200\u001b[39m \u001b[38;5;241m<\u001b[39m\u001b[38;5;241m=\u001b[39m response\u001b[38;5;241m.\u001b[39mstatus_code \u001b[38;5;241m<\u001b[39m\u001b[38;5;241m=\u001b[39m \u001b[38;5;241m299\u001b[39m:\n\u001b[0;32m     89\u001b[0m     \u001b[38;5;28;01mreturn\u001b[39;00m response\u001b[38;5;241m.\u001b[39mjson()\n\u001b[1;32m---> 91\u001b[0m \u001b[38;5;28;01mraise\u001b[39;00m ApiException(response\u001b[38;5;241m.\u001b[39mstatus_code, http_response\u001b[38;5;241m=\u001b[39mresponse)\n",
      "\u001b[1;31mApiException\u001b[0m: Error: Provided API key could not be found., Status code: 400"
     ]
    }
   ],
   "source": [
    "from qiskit_ibm_runtime import QiskitRuntimeService\n",
    " \n",
    "service = QiskitRuntimeService(channel=\"ibm_cloud\", token=\"<IBM Cloud API key>\", instance=\"<IBM Cloud CRN>\")"
   ]
  },
  {
   "cell_type": "code",
   "execution_count": 19,
   "metadata": {},
   "outputs": [
    {
     "data": {
      "image/png": "[encoded data removed]",
      "text/plain": [
       "<Figure size 287.294x200.667 with 1 Axes>"
      ]
     },
     "execution_count": 19,
     "metadata": {},
     "output_type": "execute_result"
    }
   ],
   "source": [
    "from qiskit import QuantumCircuit\n",
    "from qiskit.quantum_info import SparsePauliOp\n",
    "from qiskit.transpiler.preset_passmanagers import generate_preset_pass_manager\n",
    "from qiskit_ibm_runtime import EstimatorV2 as Estimator\n",
    " \n",
    "# Create a new circuit with two qubits\n",
    "qc = QuantumCircuit(2)\n",
    " \n",
    "# Add a Hadamard gate to qubit 0\n",
    "qc.h(0)\n",
    " \n",
    "# Perform a controlled-X gate on qubit 1, controlled by qubit 0\n",
    "qc.cx(0, 1)\n",
    " \n",
    "# Return a drawing of the circuit using MatPlotLib (\"mpl\"). This is the\n",
    "# last line of the cell, so the drawing appears in the cell output.\n",
    "# Remove the \"mpl\" argument to get a text drawing.\n",
    "qc.draw(\"mpl\")"
   ]
  },
  {
   "cell_type": "code",
   "execution_count": 20,
   "metadata": {},
   "outputs": [],
   "source": [
    "# Set up six different observables.\n",
    "from qiskit.quantum_info import SparsePauliOp\n",
    " \n",
    "observables_labels = [\"IZ\", \"IX\", \"ZI\", \"XI\", \"ZZ\", \"XX\"]\n",
    "observables = [SparsePauliOp(label) for label in observables_labels]"
   ]
  },
  {
   "cell_type": "code",
   "execution_count": 22,
   "metadata": {},
   "outputs": [
    {
     "data": {
      "image/png": "[encoded data removed]",
      "text/plain": [
       "<Figure size 757.83x200.667 with 1 Axes>"
      ]
     },
     "execution_count": 22,
     "metadata": {},
     "output_type": "execute_result"
    }
   ],
   "source": [
    "from qiskit_ibm_runtime import QiskitRuntimeService\n",
    " \n",
    "# If you did not previously save your credentials, use the following line instead:\n",
    "# service = QiskitRuntimeService(channel=\"ibm_quantum\", token=\"<MY_IBM_QUANTUM_TOKEN>\")\n",
    "service = QiskitRuntimeService()\n",
    " \n",
    "backend = service.least_busy(simulator=False, operational=True)\n",
    " \n",
    "# Convert to an ISA circuit and layout-mapped observables.\n",
    "pm = generate_preset_pass_manager(backend=backend, optimization_level=1)\n",
    "isa_circuit = pm.run(qc)\n",
    " \n",
    "isa_circuit.draw('mpl', idle_wires=False)"
   ]
  },
  {
   "cell_type": "code",
   "execution_count": 23,
   "metadata": {},
   "outputs": [
    {
     "name": "stdout",
     "output_type": "stream",
     "text": [
      ">>> Job ID: ctrw4qj4gzyg008zykd0\n"
     ]
    }
   ],
   "source": [
    "# Construct the Estimator instance.\n",
    "from qiskit_ibm_runtime import EstimatorV2 as Estimator\n",
    " \n",
    "estimator = Estimator(mode=backend)\n",
    "estimator.options.resilience_level = 1\n",
    "estimator.options.default_shots = 5000\n",
    " \n",
    "mapped_observables = [\n",
    "    observable.apply_layout(isa_circuit.layout) for observable in observables\n",
    "]\n",
    " \n",
    "# One pub, with one circuit to run against five different observables.\n",
    "job = estimator.run([(isa_circuit, mapped_observables)])\n",
    " \n",
    "# Use the job ID to retrieve your job data later\n",
    "print(f\">>> Job ID: {job.job_id()}\")"
   ]
  },
  {
   "cell_type": "code",
   "execution_count": 26,
   "metadata": {},
   "outputs": [
    {
     "data": {
      "text/plain": [
       "PrimitiveResult([PubResult(data=DataBin(evs=np.ndarray(<shape=(6,), dtype=float64>), stds=np.ndarray(<shape=(6,), dtype=float64>), ensemble_standard_error=np.ndarray(<shape=(6,), dtype=float64>), shape=(6,)), metadata={'shots': 5024, 'target_precision': 0.01414213562373095, 'circuit_metadata': {}, 'resilience': {}, 'num_randomizations': 32})], metadata={'dynamical_decoupling': {'enable': False, 'sequence_type': 'XX', 'extra_slack_distribution': 'middle', 'scheduling_method': 'alap'}, 'twirling': {'enable_gates': False, 'enable_measure': True, 'num_randomizations': 'auto', 'shots_per_randomization': 'auto', 'interleave_randomizations': True, 'strategy': 'active-accum'}, 'resilience': {'measure_mitigation': True, 'zne_mitigation': False, 'pec_mitigation': False}, 'version': 2})"
      ]
     },
     "execution_count": 26,
     "metadata": {},
     "output_type": "execute_result"
    }
   ],
   "source": [
    "job.result()"
   ]
  },
  {
   "cell_type": "code",
   "execution_count": null,
   "metadata": {},
   "outputs": [],
   "source": []
  },
  {
   "cell_type": "markdown",
   "metadata": {},
   "source": [
    "# Q-KMEANS"
   ]
  },
  {
   "cell_type": "code",
   "execution_count": 26,
   "metadata": {},
   "outputs": [
    {
     "ename": "ImportError",
     "evalue": "cannot import name 'IBMQ' from 'qiskit' (c:\\Users\\S4055367\\AppData\\Local\\anaconda3\\envs\\ML\\Lib\\site-packages\\qiskit\\__init__.py)",
     "output_type": "error",
     "traceback": [
      "\u001b[1;31m---------------------------------------------------------------------------\u001b[0m",
      "\u001b[1;31mImportError\u001b[0m                               Traceback (most recent call last)",
      "Cell \u001b[1;32mIn[26], line 7\u001b[0m\n\u001b[0;32m      4\u001b[0m \u001b[38;5;66;03m# import Qiskit\u001b[39;00m\n\u001b[0;32m      5\u001b[0m \u001b[38;5;28;01mfrom\u001b[39;00m \u001b[38;5;21;01mqiskit_aer\u001b[39;00m \u001b[38;5;28;01mimport\u001b[39;00m Aer\n\u001b[1;32m----> 7\u001b[0m \u001b[38;5;28;01mfrom\u001b[39;00m \u001b[38;5;21;01mqiskit\u001b[39;00m \u001b[38;5;28;01mimport\u001b[39;00m IBMQ, execute\n\u001b[0;32m      8\u001b[0m \u001b[38;5;28;01mfrom\u001b[39;00m \u001b[38;5;21;01mqiskit\u001b[39;00m \u001b[38;5;28;01mimport\u001b[39;00m QuantumCircuit, ClassicalRegister, QuantumRegister\n\u001b[0;32m     10\u001b[0m \u001b[38;5;66;03m# import basic plot tools\u001b[39;00m\n",
      "\u001b[1;31mImportError\u001b[0m: cannot import name 'IBMQ' from 'qiskit' (c:\\Users\\S4055367\\AppData\\Local\\anaconda3\\envs\\ML\\Lib\\site-packages\\qiskit\\__init__.py)"
     ]
    }
   ],
   "source": [
    "# import math lib\n",
    "from math import pi\n",
    "\n",
    "# import Qiskit\n",
    "from qiskit_aer import Aer\n",
    "\n",
    "from qiskit import IBMQ, execute\n",
    "from qiskit import QuantumCircuit, ClassicalRegister, QuantumRegister\n",
    "\n",
    "# import basic plot tools\n",
    "from qiskit.tools.visualization import plot_histogram\n"
   ]
  },
  {
   "cell_type": "code",
   "execution_count": 5,
   "metadata": {},
   "outputs": [],
   "source": [
    "import qiskit"
   ]
  },
  {
   "cell_type": "code",
   "execution_count": 8,
   "metadata": {},
   "outputs": [],
   "source": [
    "from qiskit import providers"
   ]
  },
  {
   "cell_type": "code",
   "execution_count": 13,
   "metadata": {},
   "outputs": [
    {
     "name": "stdout",
     "output_type": "stream",
     "text": [
      "Requirement already satisfied: qiskit in c:\\users\\s4055367\\appdata\\local\\anaconda3\\envs\\ml\\lib\\site-packages (1.1.1)\n",
      "Collecting qiskit\n",
      "  Downloading qiskit-1.1.2-cp38-abi3-win_amd64.whl.metadata (13 kB)\n",
      "Requirement already satisfied: rustworkx>=0.14.0 in c:\\users\\s4055367\\appdata\\local\\anaconda3\\envs\\ml\\lib\\site-packages (from qiskit) (0.15.1)\n",
      "Requirement already satisfied: numpy<3,>=1.17 in c:\\users\\s4055367\\appdata\\local\\anaconda3\\envs\\ml\\lib\\site-packages (from qiskit) (1.26.4)\n",
      "Requirement already satisfied: scipy>=1.5 in c:\\users\\s4055367\\appdata\\local\\anaconda3\\envs\\ml\\lib\\site-packages (from qiskit) (1.13.0)\n",
      "Requirement already satisfied: sympy>=1.3 in c:\\users\\s4055367\\appdata\\local\\anaconda3\\envs\\ml\\lib\\site-packages (from qiskit) (1.12)\n",
      "Requirement already satisfied: dill>=0.3 in c:\\users\\s4055367\\appdata\\local\\anaconda3\\envs\\ml\\lib\\site-packages (from qiskit) (0.3.8)\n",
      "Requirement already satisfied: python-dateutil>=2.8.0 in c:\\users\\s4055367\\appdata\\local\\anaconda3\\envs\\ml\\lib\\site-packages (from qiskit) (2.9.0)\n",
      "Requirement already satisfied: stevedore>=3.0.0 in c:\\users\\s4055367\\appdata\\local\\anaconda3\\envs\\ml\\lib\\site-packages (from qiskit) (5.2.0)\n",
      "Requirement already satisfied: typing-extensions in c:\\users\\s4055367\\appdata\\local\\anaconda3\\envs\\ml\\lib\\site-packages (from qiskit) (4.11.0)\n",
      "Requirement already satisfied: symengine>=0.11 in c:\\users\\s4055367\\appdata\\local\\anaconda3\\envs\\ml\\lib\\site-packages (from qiskit) (0.11.0)\n",
      "Requirement already satisfied: six>=1.5 in c:\\users\\s4055367\\appdata\\local\\anaconda3\\envs\\ml\\lib\\site-packages (from python-dateutil>=2.8.0->qiskit) (1.16.0)\n",
      "Requirement already satisfied: pbr!=2.1.0,>=2.0.0 in c:\\users\\s4055367\\appdata\\local\\anaconda3\\envs\\ml\\lib\\site-packages (from stevedore>=3.0.0->qiskit) (6.0.0)\n",
      "Requirement already satisfied: mpmath>=0.19 in c:\\users\\s4055367\\appdata\\local\\anaconda3\\envs\\ml\\lib\\site-packages (from sympy>=1.3->qiskit) (1.3.0)\n",
      "Downloading qiskit-1.1.2-cp38-abi3-win_amd64.whl (4.1 MB)\n",
      "   ---------------------------------------- 0.0/4.1 MB ? eta -:--:--\n",
      "   ---------------------------------------- 0.0/4.1 MB 1.3 MB/s eta 0:00:04\n",
      "   -- ------------------------------------- 0.3/4.1 MB 4.8 MB/s eta 0:00:01\n",
      "   ------- -------------------------------- 0.8/4.1 MB 7.0 MB/s eta 0:00:01\n",
      "   ---------- ----------------------------- 1.0/4.1 MB 7.3 MB/s eta 0:00:01\n",
      "   ---------- ----------------------------- 1.0/4.1 MB 7.3 MB/s eta 0:00:01\n",
      "   ---------- ----------------------------- 1.0/4.1 MB 7.3 MB/s eta 0:00:01\n",
      "   ---------- ----------------------------- 1.0/4.1 MB 7.3 MB/s eta 0:00:01\n",
      "   ------------ --------------------------- 1.2/4.1 MB 3.6 MB/s eta 0:00:01\n",
      "   ----------------- ---------------------- 1.8/4.1 MB 4.5 MB/s eta 0:00:01\n",
      "   -------------------- ------------------- 2.1/4.1 MB 4.9 MB/s eta 0:00:01\n",
      "   -------------------- ------------------- 2.1/4.1 MB 4.9 MB/s eta 0:00:01\n",
      "   -------------------- ------------------- 2.1/4.1 MB 4.9 MB/s eta 0:00:01\n",
      "   -------------------- ------------------- 2.1/4.1 MB 4.9 MB/s eta 0:00:01\n",
      "   -------------------- ------------------- 2.1/4.1 MB 4.9 MB/s eta 0:00:01\n",
      "   -------------------- ------------------- 2.1/4.1 MB 4.9 MB/s eta 0:00:01\n",
      "   ------------------------- -------------- 2.6/4.1 MB 3.7 MB/s eta 0:00:01\n",
      "   ------------------------------ --------- 3.1/4.1 MB 4.2 MB/s eta 0:00:01\n",
      "   ------------------------------ --------- 3.1/4.1 MB 4.2 MB/s eta 0:00:01\n",
      "   ------------------------------ --------- 3.1/4.1 MB 4.2 MB/s eta 0:00:01\n",
      "   ------------------------------ --------- 3.1/4.1 MB 4.2 MB/s eta 0:00:01\n",
      "   -------------------------------- ------- 3.3/4.1 MB 3.6 MB/s eta 0:00:01\n",
      "   ------------------------------------- -- 3.9/4.1 MB 3.9 MB/s eta 0:00:01\n",
      "   ---------------------------------------- 4.1/4.1 MB 4.0 MB/s eta 0:00:00\n",
      "Installing collected packages: qiskit\n",
      "  Attempting uninstall: qiskit\n",
      "    Found existing installation: qiskit 1.1.1\n",
      "    Uninstalling qiskit-1.1.1:\n",
      "      Successfully uninstalled qiskit-1.1.1\n",
      "Successfully installed qiskit-1.1.2\n",
      "Note: you may need to restart the kernel to use updated packages.\n"
     ]
    },
    {
     "name": "stderr",
     "output_type": "stream",
     "text": [
      "  WARNING: Failed to remove contents in a temporary directory 'C:\\Users\\S4055367\\AppData\\Local\\anaconda3\\envs\\ML\\Lib\\site-packages\\~iskit'.\n",
      "  You can safely remove it manually.\n"
     ]
    }
   ],
   "source": [
    "pip install --upgrade qiskit\n"
   ]
  },
  {
   "cell_type": "code",
   "execution_count": 15,
   "metadata": {},
   "outputs": [
    {
     "name": "stdout",
     "output_type": "stream",
     "text": [
      "Collecting qiskit-aer\n",
      "  Downloading qiskit_aer-0.14.2-cp312-cp312-win_amd64.whl.metadata (8.3 kB)\n",
      "Requirement already satisfied: qiskit>=0.45.2 in c:\\users\\s4055367\\appdata\\local\\anaconda3\\envs\\ml\\lib\\site-packages (from qiskit-aer) (1.1.2)\n",
      "Requirement already satisfied: numpy>=1.16.3 in c:\\users\\s4055367\\appdata\\local\\anaconda3\\envs\\ml\\lib\\site-packages (from qiskit-aer) (1.26.4)\n",
      "Requirement already satisfied: scipy>=1.0 in c:\\users\\s4055367\\appdata\\local\\anaconda3\\envs\\ml\\lib\\site-packages (from qiskit-aer) (1.13.0)\n",
      "Requirement already satisfied: psutil>=5 in c:\\users\\s4055367\\appdata\\local\\anaconda3\\envs\\ml\\lib\\site-packages (from qiskit-aer) (5.9.0)\n",
      "Requirement already satisfied: rustworkx>=0.14.0 in c:\\users\\s4055367\\appdata\\local\\anaconda3\\envs\\ml\\lib\\site-packages (from qiskit>=0.45.2->qiskit-aer) (0.15.1)\n",
      "Requirement already satisfied: sympy>=1.3 in c:\\users\\s4055367\\appdata\\local\\anaconda3\\envs\\ml\\lib\\site-packages (from qiskit>=0.45.2->qiskit-aer) (1.12)\n",
      "Requirement already satisfied: dill>=0.3 in c:\\users\\s4055367\\appdata\\local\\anaconda3\\envs\\ml\\lib\\site-packages (from qiskit>=0.45.2->qiskit-aer) (0.3.8)\n",
      "Requirement already satisfied: python-dateutil>=2.8.0 in c:\\users\\s4055367\\appdata\\local\\anaconda3\\envs\\ml\\lib\\site-packages (from qiskit>=0.45.2->qiskit-aer) (2.9.0)\n",
      "Requirement already satisfied: stevedore>=3.0.0 in c:\\users\\s4055367\\appdata\\local\\anaconda3\\envs\\ml\\lib\\site-packages (from qiskit>=0.45.2->qiskit-aer) (5.2.0)\n",
      "Requirement already satisfied: typing-extensions in c:\\users\\s4055367\\appdata\\local\\anaconda3\\envs\\ml\\lib\\site-packages (from qiskit>=0.45.2->qiskit-aer) (4.11.0)\n",
      "Requirement already satisfied: symengine>=0.11 in c:\\users\\s4055367\\appdata\\local\\anaconda3\\envs\\ml\\lib\\site-packages (from qiskit>=0.45.2->qiskit-aer) (0.11.0)\n",
      "Requirement already satisfied: six>=1.5 in c:\\users\\s4055367\\appdata\\local\\anaconda3\\envs\\ml\\lib\\site-packages (from python-dateutil>=2.8.0->qiskit>=0.45.2->qiskit-aer) (1.16.0)\n",
      "Requirement already satisfied: pbr!=2.1.0,>=2.0.0 in c:\\users\\s4055367\\appdata\\local\\anaconda3\\envs\\ml\\lib\\site-packages (from stevedore>=3.0.0->qiskit>=0.45.2->qiskit-aer) (6.0.0)\n",
      "Requirement already satisfied: mpmath>=0.19 in c:\\users\\s4055367\\appdata\\local\\anaconda3\\envs\\ml\\lib\\site-packages (from sympy>=1.3->qiskit>=0.45.2->qiskit-aer) (1.3.0)\n",
      "Downloading qiskit_aer-0.14.2-cp312-cp312-win_amd64.whl (9.5 MB)\n",
      "   ---------------------------------------- 0.0/9.5 MB ? eta -:--:--\n",
      "   ---------------------------------------- 0.0/9.5 MB 960.0 kB/s eta 0:00:10\n",
      "   -- ------------------------------------- 0.6/9.5 MB 7.1 MB/s eta 0:00:02\n",
      "   ----- ---------------------------------- 1.3/9.5 MB 10.3 MB/s eta 0:00:01\n",
      "   ------- -------------------------------- 1.8/9.5 MB 11.7 MB/s eta 0:00:01\n",
      "   ---------- ----------------------------- 2.6/9.5 MB 12.5 MB/s eta 0:00:01\n",
      "   ------------- -------------------------- 3.2/9.5 MB 13.5 MB/s eta 0:00:01\n",
      "   ---------------- ----------------------- 3.9/9.5 MB 13.8 MB/s eta 0:00:01\n",
      "   ------------------- -------------------- 4.7/9.5 MB 14.2 MB/s eta 0:00:01\n",
      "   ---------------------- ----------------- 5.3/9.5 MB 14.1 MB/s eta 0:00:01\n",
      "   ------------------------- -------------- 6.1/9.5 MB 14.4 MB/s eta 0:00:01\n",
      "   --------------------------- ------------ 6.6/9.5 MB 14.1 MB/s eta 0:00:01\n",
      "   ----------------------------- ---------- 7.1/9.5 MB 13.8 MB/s eta 0:00:01\n",
      "   -------------------------------- ------- 7.7/9.5 MB 13.7 MB/s eta 0:00:01\n",
      "   ---------------------------------- ----- 8.3/9.5 MB 13.5 MB/s eta 0:00:01\n",
      "   ------------------------------------- -- 8.9/9.5 MB 13.5 MB/s eta 0:00:01\n",
      "   ---------------------------------------  9.5/9.5 MB 13.8 MB/s eta 0:00:01\n",
      "   ---------------------------------------- 9.5/9.5 MB 13.2 MB/s eta 0:00:00\n",
      "Installing collected packages: qiskit-aer\n",
      "Successfully installed qiskit-aer-0.14.2\n",
      "Note: you may need to restart the kernel to use updated packages.\n"
     ]
    }
   ],
   "source": [
    "pip install qiskit-aer\n"
   ]
  },
  {
   "cell_type": "code",
   "execution_count": 21,
   "metadata": {},
   "outputs": [],
   "source": [
    "from qiskit import providers "
   ]
  },
  {
   "cell_type": "code",
   "execution_count": 25,
   "metadata": {},
   "outputs": [],
   "source": []
  }
 ],
 "metadata": {
  "kernelspec": {
   "display_name": "Reza2",
   "language": "python",
   "name": "python3"
  },
  "language_info": {
   "codemirror_mode": {
    "name": "ipython",
    "version": 3
   },
   "file_extension": ".py",
   "mimetype": "text/x-python",
   "name": "python",
   "nbconvert_exporter": "python",
   "pygments_lexer": "ipython3",
   "version": "3.12.3"
  }
 },
 "nbformat": 4,
 "nbformat_minor": 2
}
