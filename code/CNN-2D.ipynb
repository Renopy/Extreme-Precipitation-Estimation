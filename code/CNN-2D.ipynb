{
 "cells": [
  {
   "cell_type": "code",
   "execution_count": 4,
   "metadata": {},
   "outputs": [],
   "source": [
    "import numpy as np \n",
    "import pandas as pd \n",
    "import netCDF4\n",
    "import pickle \n",
    "import os\n",
    "import pandas as pd\n",
    "import h5py \n",
    "import numpy as np\n",
    "\n",
    "def Reshape( X ):\n",
    "    x =[ ]\n",
    "    for i in range(X.shape[1]):\n",
    "        x.append(X[: , i  , :])\n",
    "    return np.array(x)\n",
    "\n",
    "def rescale( data  ,Ref ) :\n",
    "    means = np.mean(Ref , axis = 0 )\n",
    "    std = np.std( Ref , axis =0)\n",
    "    return (data -means ) / std\n",
    "\n",
    "def Dict_to_hdf(Dict , of ):\n",
    "    HDF = h5py.File(of, 'w')\n",
    "    for k in Dict :    \n",
    "        test = HDF.create_dataset( k , data = np.array(Dict[k] ))\n",
    "    HDF.close()   \n",
    "\n",
    "\n",
    "def nc_to_pd(nc):\n",
    "    try:\n",
    "        Keys = list(nc.keys())\n",
    "    except:\n",
    "        Keys = list(nc.variables)\n",
    "    Panda ={ }\n",
    "    for k in Keys:\n",
    "        Panda[k]= np.array(nc[k] )    \n",
    "    return pd.DataFrame(Panda)\n",
    "\n",
    "def DF_bites_to_str(DF):\n",
    "        \n",
    "    for k in DF :\n",
    "        if type(DF[k][0])  == np.bytes_ :\n",
    "            DF[k]  = np.array( DF[k]).astype(str)\n",
    "    return DF\n",
    "\n",
    "\n",
    "class Dataframe_multi_dim :\n",
    "\n",
    "    def __init__(self  , Dict ):\n",
    "        self.df  = Dict\n",
    "        self.Keys = list(self.df.keys())\n",
    "        \n",
    "    def Querry(  self , Key  ,  condition  , value) : \n",
    "        \n",
    "        self.df_k = pd.DataFrame(self.df[Key] , columns= [Key])\n",
    "\n",
    "        if condition  == '>=' : \n",
    "            querry = self.df_k[self.df_k[Key]  >= value ] \n",
    "        if condition  == '>' : \n",
    "            querry = self.df_k[self.df_k[Key]  > value ] \n",
    "        if condition  == '==' : \n",
    "            querry = self.df_k[self.df_k[Key]  == value ] \n",
    "        if condition  == '<' : \n",
    "            querry = self.df_k[self.df_k[Key]  < value ] \n",
    "        if condition  == '<=' :\n",
    "            querry = self.df_k[self.df_k[Key]  <= value ] \n",
    "        if condition  == '!=' :\n",
    "            querry = self.df_k[self.df_k[Key]  != value ] \n",
    "        self.Index = np.array(querry.index)\n",
    "        self.out_df  ={ }\n",
    "        \n",
    "        for k in self.Keys  :\n",
    "            self.out_df[k]  = np.array(self.df[k])[self.Index]\n",
    "        self.df  = self.out_df\n",
    "        self.Keys = list(self.df.keys())\n",
    "        return Dataframe_multi_dim(self.df )\n",
    "\n",
    "\n",
    "\n"
   ]
  },
  {
   "cell_type": "code",
   "execution_count": 45,
   "metadata": {},
   "outputs": [
    {
     "name": "stdout",
     "output_type": "stream",
     "text": [
      "<KeysViewHDF5 ['CAL_P', 'CAL_P(-1)', 'CAL_P(-2)', 'CAL_P(-3)', 'CAL_P(-4)', 'CAL_P(-5)', 'CAL_P_ave', 'DAY', 'DEWP', 'DEWP_ATTRIBUTES', 'Date', 'ELEVATION', 'ERA5_cape', 'ERA5_cape(-1)', 'ERA5_cape(-2)', 'ERA5_cape(-3)', 'ERA5_cape(-4)', 'ERA5_cape(-5)', 'ERA5_msl', 'ERA5_msl(-1)', 'ERA5_msl(-2)', 'ERA5_msl(-3)', 'ERA5_msl(-4)', 'ERA5_msl(-5)', 'ERA5_t2m', 'ERA5_t2m(-1)', 'ERA5_t2m(-2)', 'ERA5_t2m(-3)', 'ERA5_t2m(-4)', 'ERA5_t2m(-5)', 'ERA5_tcw', 'ERA5_tcw(-1)', 'ERA5_tcw(-2)', 'ERA5_tcw(-3)', 'ERA5_tcw(-4)', 'ERA5_tcw(-5)', 'ERA5_tp', 'ERA5_tp(-1)', 'ERA5_tp(-2)', 'ERA5_tp(-3)', 'ERA5_tp(-4)', 'ERA5_tp(-5)', 'FRSHTT', 'GUST', 'HQ_P', 'HQ_P(-1)', 'HQ_P(-2)', 'HQ_P(-3)', 'HQ_P(-4)', 'HQ_P(-5)', 'LATITUDE', 'LONGITUDE', 'LSTM_RA_0', 'LSTM_RA_0(-1)', 'LSTM_RA_0(-2)', 'LSTM_RA_0(-3)', 'LSTM_RA_0(-4)', 'LSTM_RA_1', 'LSTM_RA_2', 'LSTM_RA_3', 'LSTM_RA_3(-1)', 'LSTM_RA_3(-2)', 'LSTM_RA_3(-3)', 'LSTM_RA_3(-4)', 'LSTM_RA_4', 'LSTM_RA_4(-4)', 'MAX', 'MAX_ATTRIBUTES', 'MIN', 'MIN_ATTRIBUTES', 'MONTH', 'MXSPD', 'NAME', 'PDIR', 'PDIR(-1)', 'PDIR(-2)', 'PDIR(-3)', 'PDIR(-4)', 'PDIR(-5)', 'PDIR(0)', 'PRCP', 'PRCP_ATTRIBUTES', 'SLP', 'SLP_ATTRIBUTES', 'SNDP', 'STATION', 'STP', 'STP_ATTRIBUTES', 'TEMP', 'TEMP_ATTRIBUTES', 'Unnamed: 0.1', 'VISIB', 'VISIB_ATTRIBUTES', 'WDSP', 'WDSP_ATTRIBUTES', 'YEAR', '_nc4_non_coord_string1', 'dim_0']>\n",
      "<KeysViewHDF5 ['CAL_P', 'DAY', 'LATITUDE', 'LONGITUDE', 'MONTH', 'NAME', 'PRCP', 'STATION', 'YEAR', 'state_code', 'state_name']>\n",
      "<KeysViewHDF5 ['ACO-MLP']>\n",
      "<KeysViewHDF5 ['CNN3', 'CNN3C', 'CNN5', 'CNN5C', 'CNN7', 'CNN7C']>\n",
      "<KeysViewHDF5 ['ACO-MLP', 'DAY', 'LATITUDE', 'LONGITUDE', 'MONTH', 'PRCP', 'YEAR', 'ant_cat', 'state_code']>\n",
      "<KeysViewHDF5 ['CNN7C_re', 'DAY', 'LATITUDE', 'LONGITUDE', 'MONTH', 'PRCP', 'STATE_CODE', 'STATION', 'YEAR']>\n",
      "<KeysViewHDF5 ['ERA5_cape', 'ERA5_cape_Ci_box(3, 3)', 'ERA5_cape_Ci_box(5, 5)', 'ERA5_cape_Ci_box(7, 7)', 'ERA5_cape_Cj_box(3, 3)', 'ERA5_cape_Cj_box(5, 5)', 'ERA5_cape_Cj_box(7, 7)', 'ERA5_cape_ave_box(3, 3)', 'ERA5_cape_ave_box(5, 5)', 'ERA5_cape_ave_box(7, 7)', 'ERA5_cape_std_box(3, 3)', 'ERA5_cape_std_box(5, 5)', 'ERA5_cape_std_box(7, 7)', 'ERA5_t2m', 'ERA5_t2m_Ci_box(3, 3)', 'ERA5_t2m_Ci_box(5, 5)', 'ERA5_t2m_Ci_box(7, 7)', 'ERA5_t2m_Cj_box(3, 3)', 'ERA5_t2m_Cj_box(5, 5)', 'ERA5_t2m_Cj_box(7, 7)', 'ERA5_t2m_ave_box(3, 3)', 'ERA5_t2m_ave_box(5, 5)', 'ERA5_t2m_ave_box(7, 7)', 'ERA5_t2m_std_box(3, 3)', 'ERA5_t2m_std_box(5, 5)', 'ERA5_t2m_std_box(7, 7)', 'ERA5_tcw', 'ERA5_tcw_Ci_box(3, 3)', 'ERA5_tcw_Ci_box(5, 5)', 'ERA5_tcw_Ci_box(7, 7)', 'ERA5_tcw_Cj_box(3, 3)', 'ERA5_tcw_Cj_box(5, 5)', 'ERA5_tcw_Cj_box(7, 7)', 'ERA5_tcw_ave_box(3, 3)', 'ERA5_tcw_ave_box(5, 5)', 'ERA5_tcw_ave_box(7, 7)', 'ERA5_tcw_std_box(3, 3)', 'ERA5_tcw_std_box(5, 5)', 'ERA5_tcw_std_box(7, 7)', 'ERA5_tp', 'ERA5_tp_Ci_box(3, 3)', 'ERA5_tp_Ci_box(5, 5)', 'ERA5_tp_Ci_box(7, 7)', 'ERA5_tp_Cj_box(3, 3)', 'ERA5_tp_Cj_box(5, 5)', 'ERA5_tp_Cj_box(7, 7)', 'ERA5_tp_ave_box(3, 3)', 'ERA5_tp_ave_box(5, 5)', 'ERA5_tp_ave_box(7, 7)', 'ERA5_tp_std_box(3, 3)', 'ERA5_tp_std_box(5, 5)', 'ERA5_tp_std_box(7, 7)']>\n",
      "<KeysViewHDF5 ['cape_3', 'cape_5', 'cape_7', 't2m_3', 't2m_5', 't2m_7', 'tcw_3', 'tcw_5', 'tcw_7', 'tp_3', 'tp_5', 'tp_7']>\n",
      "<KeysViewHDF5 ['CAL_P', 'CAL_P_Ci_box(3, 3)', 'CAL_P_Ci_box(5, 5)', 'CAL_P_Ci_box(7, 7)', 'CAL_P_Cj_box(3, 3)', 'CAL_P_Cj_box(5, 5)', 'CAL_P_Cj_box(7, 7)', 'CAL_P_ave_box(3, 3)', 'CAL_P_ave_box(5, 5)', 'CAL_P_ave_box(7, 7)', 'CAL_P_std_box(3, 3)', 'CAL_P_std_box(5, 5)', 'CAL_P_std_box(7, 7)']>\n",
      "<KeysViewHDF5 ['CAL_P_7']>\n",
      "<KeysViewHDF5 ['CAL_P', 'CAL_P_ave_box(3, 3)', 'CAL_P_ave_box(5, 5)', 'CAL_P_ave_box(7, 7)', 'CAL_P_std_box(3, 3)', 'CAL_P_std_box(5, 5)', 'CAL_P_std_box(7, 7)', 'CNN7', 'DAY', 'ERA5_cape', 'ERA5_cape_ave_box(3, 3)', 'ERA5_cape_ave_box(5, 5)', 'ERA5_cape_ave_box(7, 7)', 'ERA5_cape_std_box(3, 3)', 'ERA5_cape_std_box(5, 5)', 'ERA5_cape_std_box(7, 7)', 'ERA5_t2m', 'ERA5_t2m_ave_box(3, 3)', 'ERA5_t2m_ave_box(5, 5)', 'ERA5_t2m_ave_box(7, 7)', 'ERA5_t2m_std_box(3, 3)', 'ERA5_t2m_std_box(5, 5)', 'ERA5_t2m_std_box(7, 7)', 'ERA5_tcw', 'ERA5_tcw_ave_box(3, 3)', 'ERA5_tcw_ave_box(5, 5)', 'ERA5_tcw_ave_box(7, 7)', 'ERA5_tcw_std_box(3, 3)', 'ERA5_tcw_std_box(5, 5)', 'ERA5_tcw_std_box(7, 7)', 'ERA5_tp', 'ERA5_tp_ave_box(3, 3)', 'ERA5_tp_ave_box(5, 5)', 'ERA5_tp_ave_box(7, 7)', 'ERA5_tp_std_box(3, 3)', 'ERA5_tp_std_box(5, 5)', 'ERA5_tp_std_box(7, 7)', 'LATITUDE', 'LONGITUDE', 'MONTH', 'PDIR', 'PDIR_ave_box(3, 3)', 'PDIR_ave_box(5, 5)', 'PDIR_ave_box(7, 7)', 'PDIR_std_box(3, 3)', 'PDIR_std_box(5, 5)', 'PDIR_std_box(7, 7)', 'PRCP', 'STATE_CODE', 'YEAR']>\n",
      "<KeysViewHDF5 ['PDIR', 'PDIR_Ci_box(3, 3)', 'PDIR_Ci_box(5, 5)', 'PDIR_Ci_box(7, 7)', 'PDIR_Cj_box(3, 3)', 'PDIR_Cj_box(5, 5)', 'PDIR_Cj_box(7, 7)', 'PDIR_ave_box(3, 3)', 'PDIR_ave_box(5, 5)', 'PDIR_ave_box(7, 7)', 'PDIR_std_box(3, 3)', 'PDIR_std_box(5, 5)', 'PDIR_std_box(7, 7)']>\n",
      "<KeysViewHDF5 ['PDIR_3']>\n",
      "<KeysViewHDF5 ['PDIR_5']>\n",
      "<KeysViewHDF5 ['PDIR_7']>\n",
      "<KeysViewHDF5 ['DAY', 'LATITUDE', 'LONGITUDE', 'MONTH', 'NAME', 'STATION', 'YEAR', 're_CAL_P', 're_CAL_P_Ci_box(3, 3)', 're_CAL_P_Ci_box(5, 5)', 're_CAL_P_Ci_box(7, 7)', 're_CAL_P_Cj_box(3, 3)', 're_CAL_P_Cj_box(5, 5)', 're_CAL_P_Cj_box(7, 7)', 're_CAL_P_ave_box(3, 3)', 're_CAL_P_ave_box(5, 5)', 're_CAL_P_ave_box(7, 7)', 're_CAL_P_std_box(3, 3)', 're_CAL_P_std_box(5, 5)', 're_CAL_P_std_box(7, 7)', 're_ERA5_cape', 're_ERA5_cape_Ci_box(3, 3)', 're_ERA5_cape_Ci_box(5, 5)', 're_ERA5_cape_Ci_box(7, 7)', 're_ERA5_cape_Cj_box(3, 3)', 're_ERA5_cape_Cj_box(5, 5)', 're_ERA5_cape_Cj_box(7, 7)', 're_ERA5_cape_ave_box(3, 3)', 're_ERA5_cape_ave_box(5, 5)', 're_ERA5_cape_ave_box(7, 7)', 're_ERA5_cape_std_box(3, 3)', 're_ERA5_cape_std_box(5, 5)', 're_ERA5_cape_std_box(7, 7)', 're_ERA5_t2m', 're_ERA5_t2m_Ci_box(3, 3)', 're_ERA5_t2m_Ci_box(5, 5)', 're_ERA5_t2m_Ci_box(7, 7)', 're_ERA5_t2m_Cj_box(3, 3)', 're_ERA5_t2m_Cj_box(5, 5)', 're_ERA5_t2m_Cj_box(7, 7)', 're_ERA5_t2m_ave_box(3, 3)', 're_ERA5_t2m_ave_box(5, 5)', 're_ERA5_t2m_ave_box(7, 7)', 're_ERA5_t2m_std_box(3, 3)', 're_ERA5_t2m_std_box(5, 5)', 're_ERA5_t2m_std_box(7, 7)', 're_ERA5_tcw', 're_ERA5_tcw_Ci_box(3, 3)', 're_ERA5_tcw_Ci_box(5, 5)', 're_ERA5_tcw_Ci_box(7, 7)', 're_ERA5_tcw_Cj_box(3, 3)', 're_ERA5_tcw_Cj_box(5, 5)', 're_ERA5_tcw_Cj_box(7, 7)', 're_ERA5_tcw_ave_box(3, 3)', 're_ERA5_tcw_ave_box(5, 5)', 're_ERA5_tcw_ave_box(7, 7)', 're_ERA5_tcw_std_box(3, 3)', 're_ERA5_tcw_std_box(5, 5)', 're_ERA5_tcw_std_box(7, 7)', 're_ERA5_tp', 're_ERA5_tp_Ci_box(3, 3)', 're_ERA5_tp_Ci_box(5, 5)', 're_ERA5_tp_Ci_box(7, 7)', 're_ERA5_tp_Cj_box(3, 3)', 're_ERA5_tp_Cj_box(5, 5)', 're_ERA5_tp_Cj_box(7, 7)', 're_ERA5_tp_ave_box(3, 3)', 're_ERA5_tp_ave_box(5, 5)', 're_ERA5_tp_ave_box(7, 7)', 're_ERA5_tp_std_box(3, 3)', 're_ERA5_tp_std_box(5, 5)', 're_ERA5_tp_std_box(7, 7)', 're_PDIR', 're_PDIR_Ci_box(3, 3)', 're_PDIR_Ci_box(5, 5)', 're_PDIR_Ci_box(7, 7)', 're_PDIR_Cj_box(3, 3)', 're_PDIR_Cj_box(5, 5)', 're_PDIR_Cj_box(7, 7)', 're_PDIR_ave_box(3, 3)', 're_PDIR_ave_box(5, 5)', 're_PDIR_ave_box(7, 7)', 're_PDIR_std_box(3, 3)', 're_PDIR_std_box(5, 5)', 're_PDIR_std_box(7, 7)', 're_PRCP']>\n"
     ]
    }
   ],
   "source": [
    "\n",
    "Folder = \"D:/Projects/precipitation_AUS/dataset/0025/\"\n",
    "files = os.listdir(Folder)\n",
    "hdfs = []\n",
    "\n",
    "for file in files :\n",
    "    hdf = h5py.File(Folder + file , 'r+')\n",
    "    hdfs.append( hdf)\n",
    "    print(hdf.keys())\n",
    "    \n",
    "needed_keys = [ 'NAME'  , 'LATITUDE' , 'LONGITUDE' ,  'YEAR'  , 'MONTH'   ,  'DAY'  , 'PRCP'  , 'STATE_CODE' , 'PDIR'  , 'ERA5_tp'  , \n",
    "'ERA5_cape' , 'ERA5_tcw'   , 'CAL_P' ,'tp_7'  ,'t2m_7' ] \n",
    "\n",
    "DF = {}\n",
    "for k in needed_keys :\n",
    "    for hdf in hdfs :\n",
    "        if (k not in list(DF.keys())) and (k in list(hdf.keys())):\n",
    "            DF[k] = np.array(hdf[k])\n",
    "            "
   ]
  },
  {
   "cell_type": "code",
   "execution_count": 54,
   "metadata": {},
   "outputs": [],
   "source": [
    "ord_keys =  [ 'tp_7'  , 't2m_7']\n",
    "obs_key = 'PRCP'"
   ]
  },
  {
   "cell_type": "code",
   "execution_count": 55,
   "metadata": {},
   "outputs": [],
   "source": [
    "MDF =  Dataframe_multi_dim(DF)\n",
    "train =  MDF.Querry('YEAR'  ,  '<='  , 2020 )\n",
    "test =  MDF.Querry('YEAR'  ,  '>'  , 2021 )"
   ]
  },
  {
   "cell_type": "code",
   "execution_count": 56,
   "metadata": {},
   "outputs": [],
   "source": [
    "\n",
    "def Read(Dict  , ord_keys  , obs_key) : \n",
    "    x_train = [ ]\n",
    "    obs_train  = Dict[obs_key]  \n",
    "    for i in range(len(obs_train)) :\n",
    "        In_3d  = [ ]\n",
    "        for k in ord_keys :\n",
    "            In_3d.append(Dict[k][i])\n",
    "        x_train.append( In_3d)\n",
    "    return np.array(x_train) ,  np.array(obs_train)  \n"
   ]
  },
  {
   "cell_type": "code",
   "execution_count": 57,
   "metadata": {},
   "outputs": [],
   "source": [
    "x_train , obs_train  =  Read(train.df, ord_keys  , obs_key)\n",
    "x_test  , obs_test   = Read(test.df, ord_keys  , obs_key)\n"
   ]
  },
  {
   "cell_type": "code",
   "execution_count": 58,
   "metadata": {},
   "outputs": [
    {
     "data": {
      "text/plain": [
       "(1013846, 2, 7, 7)"
      ]
     },
     "execution_count": 58,
     "metadata": {},
     "output_type": "execute_result"
    }
   ],
   "source": [
    "x_train.shape"
   ]
  }
 ],
 "metadata": {
  "kernelspec": {
   "display_name": "ML",
   "language": "python",
   "name": "python3"
  },
  "language_info": {
   "codemirror_mode": {
    "name": "ipython",
    "version": 3
   },
   "file_extension": ".py",
   "mimetype": "text/x-python",
   "name": "python",
   "nbconvert_exporter": "python",
   "pygments_lexer": "ipython3",
   "version": "3.12.3"
  }
 },
 "nbformat": 4,
 "nbformat_minor": 2
}
